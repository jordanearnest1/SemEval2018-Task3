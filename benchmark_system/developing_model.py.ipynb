{
 "cells": [
  {
   "cell_type": "code",
   "execution_count": 2,
   "metadata": {},
   "outputs": [
    {
     "name": "stderr",
     "output_type": "stream",
     "text": [
      "/Users/Jordan_Earnest/anaconda3/lib/python3.6/site-packages/h5py/__init__.py:36: FutureWarning: Conversion of the second argument of issubdtype from `float` to `np.floating` is deprecated. In future, it will be treated as `np.float64 == np.dtype(float).type`.\n",
      "  from ._conv import register_converters as _register_converters\n",
      "Using TensorFlow backend.\n"
     ]
    }
   ],
   "source": [
    "import numpy as np # linear algebra\n",
    "import pandas as pd\n",
    "from sklearn.feature_extraction.text import CountVectorizer\n",
    "from keras.preprocessing.text import Tokenizer\n",
    "from keras.preprocessing.sequence import pad_sequences\n",
    "from keras.models import Sequential\n",
    "from keras.layers import Dense, Embedding, LSTM, SpatialDropout1D\n",
    "from sklearn.model_selection import train_test_split\n",
    "from keras.utils.np_utils import to_categorical\n",
    "import re\n",
    "\n",
    "from nltk.tokenize import TweetTokenizer\n",
    "\n"
   ]
  },
  {
   "cell_type": "code",
   "execution_count": 3,
   "metadata": {
    "collapsed": true,
    "scrolled": true
   },
   "outputs": [],
   "source": [
    "tweets_df = pd.read_csv(\"SemEval2018-T3-train-taskA.txt\", delimiter=\"\\t\")\n",
    "data = tweets_df[[\"Label\", \"Tweet text\"]]\n"
   ]
  },
  {
   "cell_type": "code",
   "execution_count": 4,
   "metadata": {
    "collapsed": true
   },
   "outputs": [],
   "source": [
    "## fit on texts is reading the text and assigning numbers to every word\n",
    "\n",
    "tokenizer = TweetTokenizer(preserve_case=False, reduce_len=True, strip_handles=True)\n",
    "\n",
    "## keras tokenizer has things that are nice for neural networks. \n",
    "# neural network wants a series of numbers representing a single work in a dictionary\n",
    "# will want every sequence to be the same length, as well. this tokenizer will put 0's\n",
    "# on the end of it and put zeros on the end of the shorter tweets, so all the same shape\n",
    "\n",
    "\n",
    "## approach: run the tweet tokenizer first, to remove stuff we don't want \n",
    "#tweet tokenizer handles hashtags and handles \n",
    "## then remove stuff we don't want, then feed that into the count vectoizer"
   ]
  },
  {
   "cell_type": "code",
   "execution_count": 5,
   "metadata": {
    "collapsed": true
   },
   "outputs": [],
   "source": [
    "tokenize_tweets = [tokenizer.tokenize(tweet) for tweet in tweets_df[\"Tweet text\"]]\n",
    "\n",
    "lst_of_strings = []\n",
    "for lst in tokenize_tweets:\n",
    "    new_string = \"\"\n",
    "    for word in lst:\n",
    "        new_string += word + \" \"\n",
    "    lst_of_strings.append(new_string)"
   ]
  },
  {
   "cell_type": "code",
   "execution_count": 6,
   "metadata": {
    "collapsed": true
   },
   "outputs": [],
   "source": [
    "max_features = 2000\n",
    "tokenizer = Tokenizer(num_words=max_features, split=' ')\n",
    "tokenizer.fit_on_texts(lst_of_strings)\n",
    "X = tokenizer.texts_to_sequences(lst_of_strings)  ## replaced with our list of strings\n",
    "X = pad_sequences(X)"
   ]
  },
  {
   "cell_type": "code",
   "execution_count": 7,
   "metadata": {},
   "outputs": [
    {
     "data": {
      "text/plain": [
       "array([[   0,    0,    0, ...,    7,    5,    6],\n",
       "       [   0,    0,    0, ...,   98, 1322,  184],\n",
       "       [   0,    0,    0, ...,   12,  392,  467],\n",
       "       ...,\n",
       "       [   0,    0,    0, ...,  983,    2,  104],\n",
       "       [   0,    0,    0, ...,    7,    5,    6],\n",
       "       [   0,    0,    0, ...,  380,    8, 1523]], dtype=int32)"
      ]
     },
     "execution_count": 7,
     "metadata": {},
     "output_type": "execute_result"
    }
   ],
   "source": [
    "X"
   ]
  },
  {
   "cell_type": "code",
   "execution_count": 8,
   "metadata": {},
   "outputs": [
    {
     "name": "stdout",
     "output_type": "stream",
     "text": [
      "_________________________________________________________________\n",
      "Layer (type)                 Output Shape              Param #   \n",
      "=================================================================\n",
      "embedding_1 (Embedding)      (None, 151, 64)           128000    \n",
      "_________________________________________________________________\n",
      "spatial_dropout1d_1 (Spatial (None, 151, 64)           0         \n",
      "_________________________________________________________________\n",
      "lstm_1 (LSTM)                (None, 98)                63896     \n",
      "_________________________________________________________________\n",
      "dense_1 (Dense)              (None, 2)                 198       \n",
      "=================================================================\n",
      "Total params: 192,094\n",
      "Trainable params: 192,094\n",
      "Non-trainable params: 0\n",
      "_________________________________________________________________\n",
      "None\n"
     ]
    }
   ],
   "source": [
    "## Next build the neural network. --> will talk about it later.\n",
    "# \"calling a messier model from scikit learn\" \n",
    "\n",
    "embed_dim = 64\n",
    "lstm_out = 98\n",
    "\n",
    "model = Sequential()\n",
    "model.add(Embedding(max_features, embed_dim,input_length = X.shape[1]))\n",
    "model.add(SpatialDropout1D(0.4))\n",
    "model.add(LSTM(lstm_out, dropout=0.7, recurrent_dropout=0.7)) \n",
    "\n",
    "model.add(Dense(2,activation='softmax'))\n",
    "model.compile(loss = 'categorical_crossentropy', optimizer='adam',metrics = ['accuracy'])\n",
    "print(model.summary())\n",
    "\n",
    "## drop out --> takes a lot of random connections in neural network and \n",
    "#drops them off so they're not trained. this makes the neural network smaller. \n",
    "# (to get the super high accuracy scores down, to undo the overfitting.), \n",
    "# making the neural network dumber, by regularizing, but not as overfit."
   ]
  },
  {
   "cell_type": "code",
   "execution_count": 16,
   "metadata": {},
   "outputs": [
    {
     "name": "stdout",
     "output_type": "stream",
     "text": [
      "(2557, 151) (2557, 2)\n",
      "(1260, 151) (1260, 2)\n"
     ]
    }
   ],
   "source": [
    "# Dummy variables : turns categorical variables into two columns of 0's and 1's (one-hot-encoded)\n",
    "\n",
    "Y = pd.get_dummies(data['Label']).values # passing in the irony label\n",
    "X_train, X_test, Y_train, Y_test = train_test_split(X,Y, test_size = 0.33, random_state = 42)\n",
    "print(X_train.shape,Y_train.shape)\n",
    "print(X_test.shape,Y_test.shape)"
   ]
  },
  {
   "cell_type": "code",
   "execution_count": 17,
   "metadata": {},
   "outputs": [
    {
     "name": "stdout",
     "output_type": "stream",
     "text": [
      "Epoch 1/100\n",
      " - 13s - loss: 0.3098 - acc: 0.8686\n",
      "Epoch 2/100\n",
      " - 12s - loss: 0.3086 - acc: 0.8674\n",
      "Epoch 3/100\n",
      " - 12s - loss: 0.3325 - acc: 0.8573\n",
      "Epoch 4/100\n",
      " - 12s - loss: 0.3007 - acc: 0.8717\n",
      "Epoch 5/100\n",
      " - 12s - loss: 0.2808 - acc: 0.8827\n",
      "Epoch 6/100\n",
      " - 12s - loss: 0.2792 - acc: 0.8882\n",
      "Epoch 7/100\n",
      " - 12s - loss: 0.2764 - acc: 0.8885\n",
      "Epoch 8/100\n",
      " - 12s - loss: 0.2658 - acc: 0.8905\n",
      "Epoch 9/100\n",
      " - 12s - loss: 0.2593 - acc: 0.8917\n",
      "Epoch 10/100\n",
      " - 12s - loss: 0.2470 - acc: 0.9011\n",
      "Epoch 11/100\n",
      " - 12s - loss: 0.2498 - acc: 0.8991\n",
      "Epoch 12/100\n",
      " - 12s - loss: 0.2378 - acc: 0.8995\n",
      "Epoch 13/100\n",
      " - 13s - loss: 0.2312 - acc: 0.9046\n",
      "Epoch 14/100\n",
      " - 12s - loss: 0.2331 - acc: 0.9038\n",
      "Epoch 15/100\n",
      " - 12s - loss: 0.2214 - acc: 0.9050\n",
      "Epoch 16/100\n",
      " - 12s - loss: 0.2251 - acc: 0.9057\n",
      "Epoch 17/100\n",
      " - 12s - loss: 0.2228 - acc: 0.9077\n",
      "Epoch 18/100\n",
      " - 12s - loss: 0.2151 - acc: 0.9069\n",
      "Epoch 19/100\n",
      " - 12s - loss: 0.2028 - acc: 0.9171\n",
      "Epoch 20/100\n",
      " - 12s - loss: 0.1975 - acc: 0.9194\n",
      "Epoch 21/100\n",
      " - 12s - loss: 0.1868 - acc: 0.9237\n",
      "Epoch 22/100\n",
      " - 12s - loss: 0.1869 - acc: 0.9245\n",
      "Epoch 23/100\n",
      " - 12s - loss: 0.1741 - acc: 0.9363\n",
      "Epoch 24/100\n",
      " - 12s - loss: 0.1799 - acc: 0.9320\n",
      "Epoch 25/100\n",
      " - 12s - loss: 0.1756 - acc: 0.9261\n",
      "Epoch 26/100\n",
      " - 12s - loss: 0.1618 - acc: 0.9398\n",
      "Epoch 27/100\n",
      " - 12s - loss: 0.1625 - acc: 0.9370\n",
      "Epoch 28/100\n",
      " - 12s - loss: 0.1733 - acc: 0.9304\n",
      "Epoch 29/100\n",
      " - 12s - loss: 0.1563 - acc: 0.9378\n",
      "Epoch 30/100\n",
      " - 12s - loss: 0.1447 - acc: 0.9433\n",
      "Epoch 31/100\n",
      " - 12s - loss: 0.1497 - acc: 0.9394\n",
      "Epoch 32/100\n",
      " - 12s - loss: 0.1380 - acc: 0.9456\n",
      "Epoch 33/100\n",
      " - 12s - loss: 0.1405 - acc: 0.9472\n",
      "Epoch 34/100\n",
      " - 12s - loss: 0.1320 - acc: 0.9468\n",
      "Epoch 35/100\n",
      " - 12s - loss: 0.1450 - acc: 0.9449\n",
      "Epoch 36/100\n",
      " - 12s - loss: 0.1322 - acc: 0.9425\n",
      "Epoch 37/100\n",
      " - 13s - loss: 0.1287 - acc: 0.9484\n",
      "Epoch 38/100\n",
      " - 12s - loss: 0.1314 - acc: 0.9492\n",
      "Epoch 39/100\n",
      " - 12s - loss: 0.1362 - acc: 0.9484\n",
      "Epoch 40/100\n",
      " - 12s - loss: 0.1267 - acc: 0.9484\n",
      "Epoch 41/100\n",
      " - 12s - loss: 0.1242 - acc: 0.9484\n",
      "Epoch 42/100\n",
      " - 12s - loss: 0.1206 - acc: 0.9519\n",
      "Epoch 43/100\n",
      " - 12s - loss: 0.1079 - acc: 0.9566\n",
      "Epoch 44/100\n",
      " - 12s - loss: 0.1100 - acc: 0.9582\n",
      "Epoch 45/100\n",
      " - 12s - loss: 0.1157 - acc: 0.9515\n",
      "Epoch 46/100\n",
      " - 13s - loss: 0.1036 - acc: 0.9621\n",
      "Epoch 47/100\n",
      " - 13s - loss: 0.1149 - acc: 0.9539\n",
      "Epoch 48/100\n",
      " - 12s - loss: 0.1012 - acc: 0.9613\n",
      "Epoch 49/100\n",
      " - 12s - loss: 0.0955 - acc: 0.9656\n",
      "Epoch 50/100\n",
      " - 12s - loss: 0.0945 - acc: 0.9601\n",
      "Epoch 51/100\n",
      " - 12s - loss: 0.0951 - acc: 0.9597\n",
      "Epoch 52/100\n",
      " - 12s - loss: 0.0864 - acc: 0.9675\n",
      "Epoch 53/100\n",
      " - 12s - loss: 0.0922 - acc: 0.9648\n",
      "Epoch 54/100\n",
      " - 12s - loss: 0.1100 - acc: 0.9578\n",
      "Epoch 55/100\n",
      " - 12s - loss: 0.0919 - acc: 0.9640\n",
      "Epoch 56/100\n",
      " - 12s - loss: 0.0917 - acc: 0.9660\n",
      "Epoch 57/100\n",
      " - 12s - loss: 0.0896 - acc: 0.9636\n",
      "Epoch 58/100\n",
      " - 12s - loss: 0.0917 - acc: 0.9656\n",
      "Epoch 59/100\n",
      " - 12s - loss: 0.0894 - acc: 0.9656\n",
      "Epoch 60/100\n",
      " - 12s - loss: 0.0820 - acc: 0.9683\n",
      "Epoch 61/100\n",
      " - 12s - loss: 0.0809 - acc: 0.9691\n",
      "Epoch 62/100\n",
      " - 12s - loss: 0.0794 - acc: 0.9695\n",
      "Epoch 63/100\n",
      " - 12s - loss: 0.0832 - acc: 0.9668\n",
      "Epoch 64/100\n",
      " - 12s - loss: 0.0847 - acc: 0.9648\n",
      "Epoch 65/100\n",
      " - 12s - loss: 0.0738 - acc: 0.9707\n",
      "Epoch 66/100\n",
      " - 12s - loss: 0.0764 - acc: 0.9691\n",
      "Epoch 67/100\n",
      " - 12s - loss: 0.0730 - acc: 0.9754\n",
      "Epoch 68/100\n",
      " - 12s - loss: 0.0730 - acc: 0.9738\n",
      "Epoch 69/100\n",
      " - 13s - loss: 0.0722 - acc: 0.9715\n",
      "Epoch 70/100\n",
      " - 12s - loss: 0.0711 - acc: 0.9703\n",
      "Epoch 71/100\n",
      " - 12s - loss: 0.0736 - acc: 0.9726\n",
      "Epoch 72/100\n",
      " - 12s - loss: 0.0775 - acc: 0.9703\n",
      "Epoch 73/100\n",
      " - 12s - loss: 0.0746 - acc: 0.9734\n",
      "Epoch 74/100\n",
      " - 12s - loss: 0.0630 - acc: 0.9761\n",
      "Epoch 75/100\n",
      " - 12s - loss: 0.0695 - acc: 0.9703\n",
      "Epoch 76/100\n",
      " - 12s - loss: 0.0499 - acc: 0.9808\n",
      "Epoch 77/100\n",
      " - 12s - loss: 0.0735 - acc: 0.9734\n",
      "Epoch 78/100\n",
      " - 12s - loss: 0.0660 - acc: 0.9789\n",
      "Epoch 79/100\n",
      " - 12s - loss: 0.0696 - acc: 0.9742\n",
      "Epoch 80/100\n",
      " - 12s - loss: 0.0678 - acc: 0.9765\n",
      "Epoch 81/100\n",
      " - 12s - loss: 0.0649 - acc: 0.9734\n",
      "Epoch 82/100\n",
      " - 12s - loss: 0.0705 - acc: 0.9718\n",
      "Epoch 83/100\n",
      " - 12s - loss: 0.0471 - acc: 0.9832\n",
      "Epoch 84/100\n",
      " - 12s - loss: 0.0567 - acc: 0.9789\n",
      "Epoch 85/100\n",
      " - 12s - loss: 0.0609 - acc: 0.9754\n",
      "Epoch 86/100\n",
      " - 12s - loss: 0.0611 - acc: 0.9750\n",
      "Epoch 87/100\n",
      " - 12s - loss: 0.0591 - acc: 0.9801\n",
      "Epoch 88/100\n",
      " - 12s - loss: 0.0520 - acc: 0.9797\n",
      "Epoch 89/100\n",
      " - 12s - loss: 0.0548 - acc: 0.9793\n",
      "Epoch 90/100\n",
      " - 12s - loss: 0.0560 - acc: 0.9777\n",
      "Epoch 91/100\n",
      " - 12s - loss: 0.0445 - acc: 0.9828\n",
      "Epoch 92/100\n",
      " - 12s - loss: 0.0517 - acc: 0.9820\n",
      "Epoch 93/100\n",
      " - 12s - loss: 0.0547 - acc: 0.9793\n",
      "Epoch 94/100\n",
      " - 12s - loss: 0.0367 - acc: 0.9871\n",
      "Epoch 95/100\n",
      " - 12s - loss: 0.0540 - acc: 0.9785\n",
      "Epoch 96/100\n",
      " - 12s - loss: 0.0534 - acc: 0.9812\n",
      "Epoch 97/100\n",
      " - 12s - loss: 0.0530 - acc: 0.9836\n",
      "Epoch 98/100\n",
      " - 12s - loss: 0.0546 - acc: 0.9777\n",
      "Epoch 99/100\n",
      " - 12s - loss: 0.0527 - acc: 0.9804\n",
      "Epoch 100/100\n",
      " - 12s - loss: 0.0423 - acc: 0.9840\n"
     ]
    },
    {
     "data": {
      "text/plain": [
       "<keras.callbacks.History at 0x1a20b4c940>"
      ]
     },
     "execution_count": 17,
     "metadata": {},
     "output_type": "execute_result"
    }
   ],
   "source": [
    "batch_size = 32   ## takes in 32 tweets at a time. (one epoch goes through all tweets, 32 at a time)\n",
    "model.fit(X_train, Y_train, epochs = 100, batch_size=batch_size, verbose = 2)  ## start with 100 epochs tonight\n",
    "##acc: score is about how well model fit to training data"
   ]
  },
  {
   "cell_type": "code",
   "execution_count": 18,
   "metadata": {},
   "outputs": [
    {
     "name": "stdout",
     "output_type": "stream",
     "text": [
      "score: 3.13\n",
      "acc: 0.59\n"
     ]
    }
   ],
   "source": [
    "validation_size = 500\n",
    "\n",
    "# X_validate = X_test[-validation_size:]\n",
    "# Y_validate = Y_test[-validation_size:]\n",
    "# X_test = X_test[:-validation_size]\n",
    "# Y_test = Y_test[:-validation_size]  ## going to replace all x_validate and y_validate with x_test and y_test\n",
    "score,acc = model.evaluate(X_test, Y_test, verbose = 2, batch_size = batch_size)\n",
    "print(\"score: %.2f\" % (score))\n",
    "print(\"acc: %.2f\" % (acc))"
   ]
  },
  {
   "cell_type": "code",
   "execution_count": 19,
   "metadata": {
    "collapsed": true
   },
   "outputs": [],
   "source": [
    "pos_cnt, neg_cnt, pos_correct, neg_correct = 0, 0, 0, 0\n",
    "yhat_lstm= np.zeros((len(X_test), 2))  \n",
    "# making a matrix of zeros with number of tweets as number of rows and 2 columns\n",
    "for x in range(len(X_test)):\n",
    "    \n",
    "    result = model.predict(X_test[x].reshape(1,X_test.shape[1]),batch_size=1,verbose = 2)[0]\n",
    "    yhat_lstm[x, :] = result  # take the result and put it into the columns at row x (they're the same size, so it works)\n",
    "    if np.argmax(result) == np.argmax(Y_test[x]):\n",
    "        if np.argmax(Y_test[x]) == 0:\n",
    "            neg_correct += 1\n",
    "        else:\n",
    "            pos_correct += 1\n",
    "       \n",
    "    if np.argmax(Y_test[x]) == 0:\n",
    "        neg_cnt += 1\n",
    "    else:\n",
    "        pos_cnt += 1\n"
   ]
  },
  {
   "cell_type": "code",
   "execution_count": 20,
   "metadata": {},
   "outputs": [
    {
     "data": {
      "text/plain": [
       "array([[3.69491492e-04, 9.99630451e-01],\n",
       "       [8.10101847e-05, 9.99918938e-01],\n",
       "       [4.13432787e-07, 9.99999642e-01],\n",
       "       ...,\n",
       "       [1.00000000e+00, 3.55566812e-08],\n",
       "       [7.02048659e-01, 2.97951370e-01],\n",
       "       [2.65099364e-03, 9.97349024e-01]])"
      ]
     },
     "execution_count": 20,
     "metadata": {},
     "output_type": "execute_result"
    }
   ],
   "source": [
    "yhat_lstm"
   ]
  },
  {
   "cell_type": "code",
   "execution_count": 21,
   "metadata": {},
   "outputs": [
    {
     "data": {
      "text/plain": [
       "0.618033582967229"
      ]
     },
     "execution_count": 21,
     "metadata": {},
     "output_type": "execute_result"
    }
   ],
   "source": [
    "from sklearn.metrics import roc_auc_score as roc  \n",
    "from sklearn.metrics import roc_curve\n",
    "\n",
    "roc(Y_test[:,1], yhat_lstm[:, 1])\n"
   ]
  },
  {
   "cell_type": "code",
   "execution_count": 22,
   "metadata": {},
   "outputs": [
    {
     "data": {
      "image/png": "[encoded data removed]",
      "text/plain": [
       "<matplotlib.figure.Figure at 0x1a20b4ac18>"
      ]
     },
     "metadata": {},
     "output_type": "display_data"
    }
   ],
   "source": [
    "from sklearn.metrics import roc_curve\n",
    "import matplotlib.pyplot as plt \n",
    "%matplotlib inline\n",
    "\n",
    "\n",
    "#false and true pos rate\n",
    "fpr_lstm, tpr_lstm, _ = roc_curve(Y_test[:, 1], yhat_lstm[:,1])  \n",
    "## added bracket after Y_test to get two columns, last time we just had one long line\n",
    "\n",
    "\n",
    "plt.figure()\n",
    "plt.plot(fpr_lstm, tpr_lstm, lw=2,\n",
    "         label='ROC curve (area = %0.2f)' % roc(Y_test[:, 1], yhat_lstm[:,1]))\n",
    "\n",
    "plt.plot([0, 1], [0, 1], color='navy', lw=2, linestyle='--')\n",
    "plt.xlim([0.0, 1.0])\n",
    "plt.ylim([0.0, 1.05])\n",
    "plt.xlabel('False Positive Rate')\n",
    "plt.ylabel('True Positive Rate')\n",
    "plt.title('Receiver operating characteristic example')\n",
    "plt.legend(loc=\"lower right\")\n",
    "plt.savefig(\"./roc_curve_lstm_100epochs.png\")"
   ]
  },
  {
   "cell_type": "code",
   "execution_count": null,
   "metadata": {
    "collapsed": true
   },
   "outputs": [],
   "source": [
    "## not getting much lift from LR (best ROC = .69)\n",
    "\n",
    "# \n",
    "# http://www.cs.cmu.edu/~ark/TweetNLP/\n",
    "# things that occur in different contexts (republican friend sttarts to make a democratic statement that's unlikely, or less likely than change)\n",
    "\n",
    "## pmi association test. frequency counts of how often things occur together (reddit dumps -- one month of data--  or wiki)\n",
    "\n",
    "## what kinds of regular things that show up? categories of words that are indicative or irony orfrustratio?\n",
    "\n",
    "# sentiment -- winter has a negative sentiment and nice has a positive sentiment. if there's a big differece in the sentimenet of the thring.\n",
    "\n",
    "## a positive adjective and a negative noun??\n",
    "\n",
    "##  does it mention time?\n",
    "\n",
    "# https://github.com/Ejhfast/empath-client feature engineering\n",
    "\n",
    "# parsing not necessary, but could be useful. need to figure out what about it is making it ironic.\n",
    "\n",
    "## like with the pun detection there was a certain word that made it funy# could parparsing reveal that word or help me quickly find that work?\n",
    "\n",
    "#  can you filter out the handles? how many peope get mentiooned, do the mentions show up at the beginning or the end?\n",
    "# what's up with the periods between some words, before handles?\n",
    "\n",
    "# some linguistic categories: negation. hedging. other modal things like \"even\" or just. the adverbial just. that's where pos could help. are these intensifiers?. an intensifier \"i so love\"\n",
    "\n",
    "## DJ brought up: \"97\t1\tPlanned on an early night last night.. Oh yaa course that happened..  #gotinterupted\n",
    "\"\n",
    "\n",
    "#failed plans script or frame? \n",
    "\n",
    "##does the contrast to the sentiment need to be in the front \"what a joke...\" \n",
    "# this is where parsing could help. want a parse tree where there are two parts-- one very pos one neg and they meet somewhere at the top.\n",
    "\n"
   ]
  }
 ],
 "metadata": {
  "kernelspec": {
   "display_name": "Python 3",
   "language": "python",
   "name": "python3"
  },
  "language_info": {
   "codemirror_mode": {
    "name": "ipython",
    "version": 3
   },
   "file_extension": ".py",
   "mimetype": "text/x-python",
   "name": "python",
   "nbconvert_exporter": "python",
   "pygments_lexer": "ipython3",
   "version": "3.6.2"
  }
 },
 "nbformat": 4,
 "nbformat_minor": 2
}

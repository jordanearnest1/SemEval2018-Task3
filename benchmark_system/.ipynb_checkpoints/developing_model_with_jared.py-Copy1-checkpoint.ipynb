{
 "cells": [
  {
   "cell_type": "code",
   "execution_count": 8,
   "metadata": {},
   "outputs": [
    {
     "name": "stderr",
     "output_type": "stream",
     "text": [
      "/Users/Jordan_Earnest/anaconda3/lib/python3.6/site-packages/h5py/__init__.py:36: FutureWarning: Conversion of the second argument of issubdtype from `float` to `np.floating` is deprecated. In future, it will be treated as `np.float64 == np.dtype(float).type`.\n",
      "  from ._conv import register_converters as _register_converters\n",
      "Using TensorFlow backend.\n"
     ]
    }
   ],
   "source": [
    "import numpy as np # linear algebra\n",
    "import pandas as pd\n",
    "from sklearn.feature_extraction.text import CountVectorizer\n",
    "from keras.preprocessing.text import Tokenizer\n",
    "from keras.preprocessing.sequence import pad_sequences\n",
    "from keras.models import Sequential\n",
    "from keras.layers import Dense, Embedding, LSTM, SpatialDropout1D\n",
    "from sklearn.model_selection import train_test_split\n",
    "from keras.utils.np_utils import to_categorical\n",
    "import re\n",
    "\n",
    "from nltk.tokenize import TweetTokenizer\n",
    "\n"
   ]
  },
  {
   "cell_type": "code",
   "execution_count": 9,
   "metadata": {
    "scrolled": true
   },
   "outputs": [],
   "source": [
    "tweets_df = pd.read_csv(\"SemEval2018-T3-train-taskA.txt\", delimiter=\"\\t\")\n",
    "data = tweets_df[[\"Label\", \"Tweet text\"]]\n"
   ]
  },
  {
   "cell_type": "code",
   "execution_count": 10,
   "metadata": {},
   "outputs": [],
   "source": [
    "## fit on texts is reading the text and assigning numbers to every word\n",
    "\n",
    "tokenizer = TweetTokenizer(preserve_case=False, reduce_len=True, strip_handles=True)\n",
    "\n",
    "## keras tokenizer has things that are nice for neural networks. \n",
    "# neural network wants a series of numbers representing a single work in a dictionary\n",
    "# will want every sequence to be the same length, as well. this tokenizer will put 0's\n",
    "# on the end of it and put zeros on the end of the shorter tweets, so all the same shape\n",
    "\n",
    "\n",
    "## approach: run the tweet tokenizer first, to remove stuff we don't want \n",
    "#tweet tokenizer handles hashtags and handles \n",
    "## then remove stuff we don't want, then feed that into the count vectoizer"
   ]
  },
  {
   "cell_type": "code",
   "execution_count": 11,
   "metadata": {},
   "outputs": [],
   "source": [
    "tokenize_tweets = [tokenizer.tokenize(tweet) for tweet in tweets_df[\"Tweet text\"]]\n",
    "\n",
    "lst_of_strings = []\n",
    "for lst in tokenize_tweets:\n",
    "    new_string = \"\"\n",
    "    for word in lst:\n",
    "        new_string += word + \" \"\n",
    "    lst_of_strings.append(new_string)"
   ]
  },
  {
   "cell_type": "code",
   "execution_count": 12,
   "metadata": {},
   "outputs": [],
   "source": [
    "max_features = 2000\n",
    "tokenizer = Tokenizer(num_words=max_features, split=' ')\n",
    "tokenizer.fit_on_texts(lst_of_strings)\n",
    "X = tokenizer.texts_to_sequences(lst_of_strings)  ## replaced with our list of strings\n",
    "X = pad_sequences(X)"
   ]
  },
  {
   "cell_type": "code",
   "execution_count": 13,
   "metadata": {},
   "outputs": [
    {
     "data": {
      "text/plain": [
       "array([[   0,    0,    0, ...,    7,    5,    6],\n",
       "       [   0,    0,    0, ...,   98, 1322,  184],\n",
       "       [   0,    0,    0, ...,   12,  392,  467],\n",
       "       ...,\n",
       "       [   0,    0,    0, ...,  983,    2,  104],\n",
       "       [   0,    0,    0, ...,    7,    5,    6],\n",
       "       [   0,    0,    0, ...,  380,    8, 1523]], dtype=int32)"
      ]
     },
     "execution_count": 13,
     "metadata": {},
     "output_type": "execute_result"
    }
   ],
   "source": [
    "X"
   ]
  },
  {
   "cell_type": "code",
   "execution_count": 14,
   "metadata": {},
   "outputs": [
    {
     "name": "stdout",
     "output_type": "stream",
     "text": [
      "_________________________________________________________________\n",
      "Layer (type)                 Output Shape              Param #   \n",
      "=================================================================\n",
      "embedding_1 (Embedding)      (None, 151, 64)           128000    \n",
      "_________________________________________________________________\n",
      "spatial_dropout1d_1 (Spatial (None, 151, 64)           0         \n",
      "_________________________________________________________________\n",
      "lstm_1 (LSTM)                (None, 98)                63896     \n",
      "_________________________________________________________________\n",
      "dense_1 (Dense)              (None, 2)                 198       \n",
      "=================================================================\n",
      "Total params: 192,094\n",
      "Trainable params: 192,094\n",
      "Non-trainable params: 0\n",
      "_________________________________________________________________\n",
      "None\n"
     ]
    }
   ],
   "source": [
    "## Next build the neural network. --> will talk about it later.\n",
    "# \"calling a messier model from scikit learn\" \n",
    "\n",
    "embed_dim = 64\n",
    "lstm_out = 98\n",
    "\n",
    "model = Sequential()\n",
    "model.add(Embedding(max_features, embed_dim,input_length = X.shape[1]))\n",
    "model.add(SpatialDropout1D(0.4))\n",
    "model.add(LSTM(lstm_out, dropout=0.3, recurrent_dropout=0.3)) ## --> just made this smaller\n",
    "\n",
    "model.add(Dense(2,activation='softmax'))\n",
    "model.compile(loss = 'categorical_crossentropy', optimizer='adam',metrics = ['accuracy'])\n",
    "print(model.summary())\n",
    "\n",
    "## drop out --> takes a lot of random connections in neural network and \n",
    "#drops them off so they're not trained. this makes the neural network smaller. \n",
    "# (to get the super high accuracy scores down, to undo the overfitting.), \n",
    "# making the neural network dumber, by regularizing, but not as overfit."
   ]
  },
  {
   "cell_type": "code",
   "execution_count": 15,
   "metadata": {},
   "outputs": [
    {
     "name": "stdout",
     "output_type": "stream",
     "text": [
      "(2557, 151) (2557, 2)\n",
      "(1260, 151) (1260, 2)\n"
     ]
    }
   ],
   "source": [
    "# Dummy variables : turns categorical variables into two columns of 0's and 1's (one-hot-encoded)\n",
    "\n",
    "Y = pd.get_dummies(data['Label']).values # passing in the irony label\n",
    "X_train, X_test, Y_train, Y_test = train_test_split(X,Y, test_size = 0.33, random_state = 42)\n",
    "print(X_train.shape,Y_train.shape)\n",
    "print(X_test.shape,Y_test.shape)"
   ]
  },
  {
   "cell_type": "code",
   "execution_count": 16,
   "metadata": {},
   "outputs": [
    {
     "name": "stdout",
     "output_type": "stream",
     "text": [
      "Epoch 1/50\n",
      " - 14s - loss: 0.6817 - acc: 0.5589\n",
      "Epoch 2/50\n",
      " - 12s - loss: 0.6351 - acc: 0.6574\n",
      "Epoch 3/50\n",
      " - 13s - loss: 0.5497 - acc: 0.7286\n",
      "Epoch 4/50\n",
      " - 14s - loss: 0.4770 - acc: 0.7724\n",
      "Epoch 5/50\n",
      " - 14s - loss: 0.4313 - acc: 0.8045\n",
      "Epoch 6/50\n",
      " - 14s - loss: 0.3873 - acc: 0.8287\n",
      "Epoch 7/50\n",
      " - 13s - loss: 0.3463 - acc: 0.8428\n",
      "Epoch 8/50\n",
      " - 13s - loss: 0.3269 - acc: 0.8662\n",
      "Epoch 9/50\n",
      " - 14s - loss: 0.2716 - acc: 0.8928\n",
      "Epoch 10/50\n",
      " - 14s - loss: 0.2543 - acc: 0.8971\n",
      "Epoch 11/50\n",
      " - 14s - loss: 0.2262 - acc: 0.9050\n",
      "Epoch 12/50\n",
      " - 14s - loss: 0.2115 - acc: 0.9132\n",
      "Epoch 13/50\n",
      " - 13s - loss: 0.1911 - acc: 0.9273\n",
      "Epoch 14/50\n",
      " - 13s - loss: 0.1762 - acc: 0.9312\n",
      "Epoch 15/50\n",
      " - 13s - loss: 0.1597 - acc: 0.9363\n",
      "Epoch 16/50\n",
      " - 13s - loss: 0.1476 - acc: 0.9421\n",
      "Epoch 17/50\n",
      " - 13s - loss: 0.1351 - acc: 0.9460\n",
      "Epoch 18/50\n",
      " - 13s - loss: 0.1383 - acc: 0.9433\n",
      "Epoch 19/50\n",
      " - 13s - loss: 0.1316 - acc: 0.9492\n",
      "Epoch 20/50\n",
      " - 13s - loss: 0.1144 - acc: 0.9562\n",
      "Epoch 21/50\n",
      " - 14s - loss: 0.1331 - acc: 0.9507\n",
      "Epoch 22/50\n",
      " - 14s - loss: 0.1050 - acc: 0.9613\n",
      "Epoch 23/50\n",
      " - 13s - loss: 0.0976 - acc: 0.9605\n",
      "Epoch 24/50\n",
      " - 13s - loss: 0.0948 - acc: 0.9617\n",
      "Epoch 25/50\n",
      " - 13s - loss: 0.0790 - acc: 0.9703\n",
      "Epoch 26/50\n",
      " - 13s - loss: 0.0804 - acc: 0.9707\n",
      "Epoch 27/50\n",
      " - 13s - loss: 0.0687 - acc: 0.9754\n",
      "Epoch 28/50\n",
      " - 13s - loss: 0.0677 - acc: 0.9769\n",
      "Epoch 29/50\n",
      " - 13s - loss: 0.0669 - acc: 0.9758\n",
      "Epoch 30/50\n",
      " - 13s - loss: 0.1026 - acc: 0.9609\n",
      "Epoch 31/50\n",
      " - 14s - loss: 0.0738 - acc: 0.9703\n",
      "Epoch 32/50\n",
      " - 13s - loss: 0.0608 - acc: 0.9742\n",
      "Epoch 33/50\n",
      " - 13s - loss: 0.0572 - acc: 0.9761\n",
      "Epoch 34/50\n",
      " - 13s - loss: 0.0512 - acc: 0.9820\n",
      "Epoch 35/50\n",
      " - 14s - loss: 0.0521 - acc: 0.9812\n",
      "Epoch 36/50\n",
      " - 14s - loss: 0.0495 - acc: 0.9816\n",
      "Epoch 37/50\n",
      " - 14s - loss: 0.0507 - acc: 0.9808\n",
      "Epoch 38/50\n",
      " - 14s - loss: 0.0486 - acc: 0.9812\n",
      "Epoch 39/50\n",
      " - 14s - loss: 0.0454 - acc: 0.9840\n",
      "Epoch 40/50\n",
      " - 14s - loss: 0.0732 - acc: 0.9699\n",
      "Epoch 41/50\n",
      " - 14s - loss: 0.0524 - acc: 0.9828\n",
      "Epoch 42/50\n",
      " - 13s - loss: 0.0411 - acc: 0.9824\n",
      "Epoch 43/50\n",
      " - 14s - loss: 0.0313 - acc: 0.9887\n",
      "Epoch 44/50\n",
      " - 13s - loss: 0.0311 - acc: 0.9883\n",
      "Epoch 45/50\n",
      " - 14s - loss: 0.0359 - acc: 0.9859\n",
      "Epoch 46/50\n",
      " - 13s - loss: 0.0328 - acc: 0.9898\n",
      "Epoch 47/50\n",
      " - 13s - loss: 0.0451 - acc: 0.9847\n",
      "Epoch 48/50\n",
      " - 13s - loss: 0.0343 - acc: 0.9894\n",
      "Epoch 49/50\n",
      " - 14s - loss: 0.0350 - acc: 0.9883\n",
      "Epoch 50/50\n",
      " - 14s - loss: 0.0347 - acc: 0.9875\n"
     ]
    },
    {
     "data": {
      "text/plain": [
       "<keras.callbacks.History at 0x1a1d32cc50>"
      ]
     },
     "execution_count": 16,
     "metadata": {},
     "output_type": "execute_result"
    }
   ],
   "source": [
    "batch_size = 32   ## takes in 32 tweets at a time. (one epoch goes through all tweets, 32 at a time)\n",
    "model.fit(X_train, Y_train, epochs = 50, batch_size=batch_size, verbose = 2)  ## start with 100 epochs tonight\n",
    "##acc: score is about how well model fit to training data"
   ]
  },
  {
   "cell_type": "code",
   "execution_count": 17,
   "metadata": {},
   "outputs": [
    {
     "name": "stdout",
     "output_type": "stream",
     "text": [
      "score: 2.96\n",
      "acc: 0.59\n"
     ]
    }
   ],
   "source": [
    "validation_size = 500\n",
    "\n",
    "# X_validate = X_test[-validation_size:]\n",
    "# Y_validate = Y_test[-validation_size:]\n",
    "# X_test = X_test[:-validation_size]\n",
    "# Y_test = Y_test[:-validation_size]  ## going to replace all x_validate and y_validate with x_test and y_test\n",
    "score,acc = model.evaluate(X_test, Y_test, verbose = 2, batch_size = batch_size)\n",
    "print(\"score: %.2f\" % (score))\n",
    "print(\"acc: %.2f\" % (acc))"
   ]
  },
  {
   "cell_type": "code",
   "execution_count": 18,
   "metadata": {
    "collapsed": true
   },
   "outputs": [],
   "source": [
    "pos_cnt, neg_cnt, pos_correct, neg_correct = 0, 0, 0, 0\n",
    "yhat_lstm= np.zeros((len(X_test), 2))  \n",
    "# making a matrix of zeros with number of tweets as number of rows and 2 columns\n",
    "for x in range(len(X_test)):\n",
    "    \n",
    "    result = model.predict(X_test[x].reshape(1,X_test.shape[1]),batch_size=1,verbose = 2)[0]\n",
    "    yhat_lstm[x, :] = result  # take the result and put it into the columns at row x (they're the same size, so it works)\n",
    "    if np.argmax(result) == np.argmax(Y_test[x]):\n",
    "        if np.argmax(Y_test[x]) == 0:\n",
    "            neg_correct += 1\n",
    "        else:\n",
    "            pos_correct += 1\n",
    "       \n",
    "    if np.argmax(Y_test[x]) == 0:\n",
    "        neg_cnt += 1\n",
    "    else:\n",
    "        pos_cnt += 1\n"
   ]
  },
  {
   "cell_type": "code",
   "execution_count": 19,
   "metadata": {},
   "outputs": [
    {
     "data": {
      "text/plain": [
       "array([[5.59541676e-03, 9.94404554e-01],\n",
       "       [2.07945104e-05, 9.99979258e-01],\n",
       "       [9.79213564e-06, 9.99990225e-01],\n",
       "       ...,\n",
       "       [1.00000000e+00, 3.36823724e-08],\n",
       "       [9.91965771e-01, 8.03423673e-03],\n",
       "       [6.64039253e-05, 9.99933600e-01]])"
      ]
     },
     "execution_count": 19,
     "metadata": {},
     "output_type": "execute_result"
    }
   ],
   "source": [
    "yhat_lstm"
   ]
  },
  {
   "cell_type": "code",
   "execution_count": 20,
   "metadata": {},
   "outputs": [
    {
     "data": {
      "text/plain": [
       "0.6209662121660483"
      ]
     },
     "execution_count": 20,
     "metadata": {},
     "output_type": "execute_result"
    }
   ],
   "source": [
    "from sklearn.metrics import roc_auc_score as roc  \n",
    "from sklearn.metrics import roc_curve\n",
    "\n",
    "roc(Y_test[:,1], yhat_lstm[:, 1])\n"
   ]
  },
  {
   "cell_type": "code",
   "execution_count": 21,
   "metadata": {},
   "outputs": [
    {
     "data": {
      "image/png": "[encoded data removed]",
      "text/plain": [
       "<matplotlib.figure.Figure at 0x1a20f9cef0>"
      ]
     },
     "metadata": {},
     "output_type": "display_data"
    }
   ],
   "source": [
    "from sklearn.metrics import roc_curve\n",
    "import matplotlib.pyplot as plt \n",
    "%matplotlib inline\n",
    "\n",
    "\n",
    "#false and true pos rate\n",
    "fpr_lstm, tpr_lstm, _ = roc_curve(Y_test[:, 1], yhat_lstm[:,1])  \n",
    "## added bracket after Y_test to get two columns, last time we just had one long line\n",
    "\n",
    "\n",
    "plt.figure()\n",
    "plt.plot(fpr_lstm, tpr_lstm, lw=2,\n",
    "         label='ROC curve (area = %0.2f)' % roc(Y_test[:, 1], yhat_lstm[:,1]))\n",
    "\n",
    "plt.plot([0, 1], [0, 1], color='navy', lw=2, linestyle='--')\n",
    "plt.xlim([0.0, 1.0])\n",
    "plt.ylim([0.0, 1.05])\n",
    "plt.xlabel('False Positive Rate')\n",
    "plt.ylabel('True Positive Rate')\n",
    "plt.title('Receiver operating characteristic example')\n",
    "plt.legend(loc=\"lower right\")\n",
    "plt.savefig(\"./roc_curve_lstm_50epochs_point3dropout.png\")"
   ]
  },
  {
   "cell_type": "code",
   "execution_count": null,
   "metadata": {
    "collapsed": true
   },
   "outputs": [],
   "source": [
    "## not getting much lift from LR (best ROC = .69)\n",
    "\n",
    "# "
   ]
  }
 ],
 "metadata": {
  "kernelspec": {
   "display_name": "Python 3",
   "language": "python",
   "name": "python3"
  },
  "language_info": {
   "codemirror_mode": {
    "name": "ipython",
    "version": 3
   },
   "file_extension": ".py",
   "mimetype": "text/x-python",
   "name": "python",
   "nbconvert_exporter": "python",
   "pygments_lexer": "ipython3",
   "version": "3.6.2"
  }
 },
 "nbformat": 4,
 "nbformat_minor": 2
}

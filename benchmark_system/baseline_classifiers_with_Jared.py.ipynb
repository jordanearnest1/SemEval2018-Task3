{
 "cells": [
  {
   "cell_type": "markdown",
   "metadata": {},
   "source": [
    "# This is a header"
   ]
  },
  {
   "cell_type": "code",
   "execution_count": 183,
   "metadata": {
    "collapsed": true
   },
   "outputs": [],
   "source": [
    "%matplotlib inline\n",
    "import pandas as pd  ##going to use read csv\n",
    "import numpy as np\n",
    "from nltk.tokenize import TweetTokenizer\n",
    "from sklearn.feature_extraction.text import CountVectorizer, TfidfVectorizer\n",
    "import matplotlib.pyplot as plt"
   ]
  },
  {
   "cell_type": "markdown",
   "metadata": {},
   "source": [
    "# Data Prep/Cleaning"
   ]
  },
  {
   "cell_type": "code",
   "execution_count": 2,
   "metadata": {
    "collapsed": true
   },
   "outputs": [],
   "source": [
    "tweets_df = pd.read_csv(\"SemEval2018-T3-train-taskA.txt\", delimiter=\"\\t\")"
   ]
  },
  {
   "cell_type": "code",
   "execution_count": 3,
   "metadata": {},
   "outputs": [
    {
     "data": {
      "text/plain": [
       "0       Sweet United Nations video. Just in time for C...\n",
       "1       @mrdahl87 We are rumored to have talked to Erv...\n",
       "2       Hey there! Nice to see you Minnesota/ND Winter...\n",
       "3                     3 episodes left I'm dying over here\n",
       "4       I can't breathe! was chosen as the most notabl...\n",
       "5       You're never too old for Footie Pajamas. http:...\n",
       "6       Nothing makes me happier then getting on the h...\n",
       "7       4:30 an opening my first beer now gonna be a l...\n",
       "8       @Adam_Klug do you think you would support a gu...\n",
       "9       @samcguigan544 You are not allowed to open tha...\n",
       "10      Oh, thank GOD - our entire office email system...\n",
       "11      But instead, I'm scrolling through Facebook, I...\n",
       "12      @TargetZonePT :pouting_face: no he bloody isn'...\n",
       "13      Cold or warmth both suffuse one's cheeks with ...\n",
       "14      Just great when you're mobile bill arrives by ...\n",
       "15      crushes are great until you realize they'll ne...\n",
       "16      Buffalo sports media is smarter than all of us...\n",
       "17      I guess my cat also lost 3 pounds when she wen...\n",
       "18      @YankeesWFAN @Ken_Rosenthal trading a SP for a...\n",
       "19      But @DarklightDave was trying to find us, and ...\n",
       "20      @deputymartinski please do..i need the second ...\n",
       "21      I never cared for Beyonce, bc I could never ge...\n",
       "22                 @yWTorres9 time to hit the books then \n",
       "23      @RushOrderTees THX4FLW! FLWtheMUSIC @ElektrikE...\n",
       "24      Love these cold winter mornings :grimacing_fac...\n",
       "25      Amazingly http://t.co/NEioZuNbLD is not owned ...\n",
       "26      Wish she could have told me herself. @NicoleSc...\n",
       "27      The rain has made extra extra lazy:smiling_fac...\n",
       "28      I was doing great with this summary of my year...\n",
       "29      see, that MIGHT show up on a background check,...\n",
       "                              ...                        \n",
       "3787    @Nylons @quick13 @jamieyuccas @chadhartman it ...\n",
       "3788    @TheFollowingFOX I get paid 4 posting stuff li...\n",
       "3789    @Abelv03 @KWAPT I just want learning from this...\n",
       "3790    Only ones in the cinema  #putting #my #phone #...\n",
       "3791    @BBCRadMac @StuartMaconie years ago in M && S ...\n",
       "3792    Montana Of 300 14 - THE BEST Versace Remix IN ...\n",
       "3793    I should of just made a canvas of coffee stain...\n",
       "3794    The world is such a smiley place. :flushed_face: \n",
       "3795    Two Broke Rednecks father/daughter riffing tea...\n",
       "3796    #WTF is happening to these kids??? Are you kid...\n",
       "3797    I would have made a much more convincing Bella...\n",
       "3798    I retweeted this so Chris Graham blocked me. |...\n",
       "3799              Fries With That 304 #AlabamaStateMajors\n",
       "3800    @StartUpGrindBuf @magnachef If you need a #dev...\n",
       "3801    I'm glad the DC Council has it's priorities in...\n",
       "3802            Riding the distraction train. ||CHOO CHOO\n",
       "3803    Chill #Repost #Dead  #Dominos #Haha :face_with...\n",
       "3804    Someone I work w doesn't let his kids believe ...\n",
       "3805    Check out my new post! MyFairDaily: 10 Things ...\n",
       "3806    Obama whisked away to hospital, diagnosed with...\n",
       "3807    @DCsportsGrl @DragonflyJonez true n that's y w...\n",
       "3808    Another one of our support vehicles modified f...\n",
       "3809                 Thanks for shutting the city down.. \n",
       "3810    @flippysgardenia IKR?! don't you see? he's gon...\n",
       "3811    Glad there's not a typhoon where we go on holi...\n",
       "3812    @banditelli regarding what the PSU president does\n",
       "3813    @banditelli But still bothers me that I see no...\n",
       "3814    well now that i've listened to all of into the...\n",
       "3815    Hummingbirds #Are  #Experts #at #Hovering #Aft...\n",
       "3816    Only thing missing now is a session at the gym...\n",
       "Name: Tweet text, Length: 3817, dtype: object"
      ]
     },
     "execution_count": 3,
     "metadata": {},
     "output_type": "execute_result"
    }
   ],
   "source": [
    "tweets_df[\"Tweet text\"]"
   ]
  },
  {
   "cell_type": "code",
   "execution_count": 4,
   "metadata": {
    "collapsed": true
   },
   "outputs": [],
   "source": [
    "tokenizer = TweetTokenizer(preserve_case=False, reduce_len=True, strip_handles=True)"
   ]
  },
  {
   "cell_type": "code",
   "execution_count": 5,
   "metadata": {
    "collapsed": true
   },
   "outputs": [],
   "source": [
    "## to get a list of strings to feed into, put brackets after data frame name and get a list out"
   ]
  },
  {
   "cell_type": "code",
   "execution_count": 6,
   "metadata": {},
   "outputs": [
    {
     "ename": "TypeError",
     "evalue": "expected string or bytes-like object",
     "output_type": "error",
     "traceback": [
      "\u001b[0;31m---------------------------------------------------------------------------\u001b[0m",
      "\u001b[0;31mTypeError\u001b[0m                                 Traceback (most recent call last)",
      "\u001b[0;32m<ipython-input-6-96cb4c2105e8>\u001b[0m in \u001b[0;36m<module>\u001b[0;34m()\u001b[0m\n\u001b[0;32m----> 1\u001b[0;31m \u001b[0mtokenizer\u001b[0m\u001b[0;34m.\u001b[0m\u001b[0mtokenize\u001b[0m\u001b[0;34m(\u001b[0m\u001b[0mtweets_df\u001b[0m\u001b[0;34m[\u001b[0m\u001b[0;34m\"Tweet text\"\u001b[0m\u001b[0;34m]\u001b[0m\u001b[0;34m)\u001b[0m\u001b[0;34m\u001b[0m\u001b[0m\n\u001b[0m",
      "\u001b[0;32m~/anaconda3/lib/python3.6/site-packages/nltk/tokenize/casual.py\u001b[0m in \u001b[0;36mtokenize\u001b[0;34m(self, text)\u001b[0m\n\u001b[1;32m    293\u001b[0m         \"\"\"\n\u001b[1;32m    294\u001b[0m         \u001b[0;31m# Fix HTML character entities:\u001b[0m\u001b[0;34m\u001b[0m\u001b[0;34m\u001b[0m\u001b[0m\n\u001b[0;32m--> 295\u001b[0;31m         \u001b[0mtext\u001b[0m \u001b[0;34m=\u001b[0m \u001b[0m_replace_html_entities\u001b[0m\u001b[0;34m(\u001b[0m\u001b[0mtext\u001b[0m\u001b[0;34m)\u001b[0m\u001b[0;34m\u001b[0m\u001b[0m\n\u001b[0m\u001b[1;32m    296\u001b[0m         \u001b[0;31m# Remove username handles\u001b[0m\u001b[0;34m\u001b[0m\u001b[0;34m\u001b[0m\u001b[0m\n\u001b[1;32m    297\u001b[0m         \u001b[0;32mif\u001b[0m \u001b[0mself\u001b[0m\u001b[0;34m.\u001b[0m\u001b[0mstrip_handles\u001b[0m\u001b[0;34m:\u001b[0m\u001b[0;34m\u001b[0m\u001b[0m\n",
      "\u001b[0;32m~/anaconda3/lib/python3.6/site-packages/nltk/tokenize/casual.py\u001b[0m in \u001b[0;36m_replace_html_entities\u001b[0;34m(text, keep, remove_illegal, encoding)\u001b[0m\n\u001b[1;32m    257\u001b[0m         \u001b[0;32mreturn\u001b[0m \u001b[0;34m\"\"\u001b[0m \u001b[0;32mif\u001b[0m \u001b[0mremove_illegal\u001b[0m \u001b[0;32melse\u001b[0m \u001b[0mmatch\u001b[0m\u001b[0;34m.\u001b[0m\u001b[0mgroup\u001b[0m\u001b[0;34m(\u001b[0m\u001b[0;36m0\u001b[0m\u001b[0;34m)\u001b[0m\u001b[0;34m\u001b[0m\u001b[0m\n\u001b[1;32m    258\u001b[0m \u001b[0;34m\u001b[0m\u001b[0m\n\u001b[0;32m--> 259\u001b[0;31m     \u001b[0;32mreturn\u001b[0m \u001b[0mENT_RE\u001b[0m\u001b[0;34m.\u001b[0m\u001b[0msub\u001b[0m\u001b[0;34m(\u001b[0m\u001b[0m_convert_entity\u001b[0m\u001b[0;34m,\u001b[0m \u001b[0m_str_to_unicode\u001b[0m\u001b[0;34m(\u001b[0m\u001b[0mtext\u001b[0m\u001b[0;34m,\u001b[0m \u001b[0mencoding\u001b[0m\u001b[0;34m)\u001b[0m\u001b[0;34m)\u001b[0m\u001b[0;34m\u001b[0m\u001b[0m\n\u001b[0m\u001b[1;32m    260\u001b[0m \u001b[0;34m\u001b[0m\u001b[0m\n\u001b[1;32m    261\u001b[0m \u001b[0;34m\u001b[0m\u001b[0m\n",
      "\u001b[0;31mTypeError\u001b[0m: expected string or bytes-like object"
     ]
    }
   ],
   "source": [
    "tokenizer.tokenize(tweets_df[\"Tweet text\"])"
   ]
  },
  {
   "cell_type": "code",
   "execution_count": 8,
   "metadata": {},
   "outputs": [],
   "source": [
    "# for tweet in tweets_df[\"Tweet text\"]:\n",
    "#     tokenizer.tokenize(tweet)  ##creates a list of tokens for each string (each tweet)\n",
    "\n",
    "tokenize_tweets = [tokenizer.tokenize(tweet) for tweet in tweets_df[\"Tweet text\"]]"
   ]
  },
  {
   "cell_type": "code",
   "execution_count": 9,
   "metadata": {},
   "outputs": [
    {
     "data": {
      "text/plain": [
       "['sweet',\n",
       " 'united',\n",
       " 'nations',\n",
       " 'video',\n",
       " '.',\n",
       " 'just',\n",
       " 'in',\n",
       " 'time',\n",
       " 'for',\n",
       " 'christmas',\n",
       " '.',\n",
       " '#imagine',\n",
       " '#noreligion',\n",
       " 'http://t.co/fej2v3OUBR']"
      ]
     },
     "execution_count": 9,
     "metadata": {},
     "output_type": "execute_result"
    }
   ],
   "source": [
    "tokenize_tweets[0]"
   ]
  },
  {
   "cell_type": "code",
   "execution_count": 10,
   "metadata": {
    "collapsed": true
   },
   "outputs": [],
   "source": [
    "## term-document matrix : does this term occur in this document \n",
    "# The red fox. \n",
    "# The green frog.\n",
    "\n",
    "# The red green frog fox\n",
    "# [1, 1, 0, 0, 1]\n",
    "# [1, 0 , 1, 1, 0]\n",
    "\n",
    "## matrix is the width of every term that appears"
   ]
  },
  {
   "cell_type": "code",
   "execution_count": 11,
   "metadata": {},
   "outputs": [],
   "source": [
    "lst_of_strings = []\n",
    "for lst in tokenize_tweets:\n",
    "    new_string = \"\"\n",
    "    for word in lst:\n",
    "        new_string += word + \" \"\n",
    "    lst_of_strings.append(new_string)\n"
   ]
  },
  {
   "cell_type": "code",
   "execution_count": 12,
   "metadata": {},
   "outputs": [
    {
     "data": {
      "text/plain": [
       "['sweet united nations video . just in time for christmas . #imagine #noreligion http://t.co/fej2v3OUBR ',\n",
       " \"we are rumored to have talked to erv's agent ... and the angels asked about ed escobar ... that's hardly nothing ;) \",\n",
       " 'hey there ! nice to see you minnesota / nd winter weather ',\n",
       " \"3 episodes left i'm dying over here \",\n",
       " \"i can't breathe ! was chosen as the most notable quote of the year in an annual list released by a yale university librarian \"]"
      ]
     },
     "execution_count": 12,
     "metadata": {},
     "output_type": "execute_result"
    }
   ],
   "source": [
    "lst_of_strings[:5]\n"
   ]
  },
  {
   "cell_type": "code",
   "execution_count": 114,
   "metadata": {},
   "outputs": [],
   "source": [
    "# cv = CountVectorizer()\n",
    "# doc_term = cv.fit_transform(lst_of_strings)\n",
    "# doc_term = doc_term.todense()  ## takes our sparse matrix and makes it dense\n",
    "\n",
    "# implementing n-grams\n",
    "# cv = CountVectorizer(ngram_range=(1,2)) ## counting everyword and pair of words\n",
    "# doc_term = cv.fit_transform(lst_of_strings)\n",
    "# doc_term = doc_term.todense()  ## takes our sparse matrix and makes it dense\n",
    "\n",
    "##now trying pairs of words\n",
    "# cv = CountVectorizer(ngram_range=(2,2)) \n",
    "# doc_term = cv.fit_transform(lst_of_strings)\n",
    "# doc_term = doc_term.todense()  ## this result was worse\n",
    "\n",
    "\n",
    "#now trying single words and 3-grams \n",
    "cv = CountVectorizer(ngram_range=(1,3)) \n",
    "doc_term = cv.fit_transform(lst_of_strings)\n",
    "doc_term = doc_term.todense()  ## this result was better, spiked up faster at the beginning\n",
    "\n",
    "# ##now trying single words and 5-grams \n",
    "# cv = CountVectorizer(ngram_range=(1,5)) \n",
    "# doc_term = cv.fit_transform(lst_of_strings)\n",
    "# doc_term = doc_term.todense()  ## maybe too far\n",
    "\n",
    "##we just did a \"grid search\" -- trying different things to see what works best"
   ]
  },
  {
   "cell_type": "markdown",
   "metadata": {},
   "source": [
    "# Model Selection"
   ]
  },
  {
   "cell_type": "code",
   "execution_count": 115,
   "metadata": {
    "collapsed": true
   },
   "outputs": [],
   "source": [
    "## vocab = 10770 words. "
   ]
  },
  {
   "cell_type": "code",
   "execution_count": 116,
   "metadata": {},
   "outputs": [],
   "source": [
    "from sklearn.naive_bayes import MultinomialNB    ##these are model objects\n",
    "from sklearn.linear_model import LogisticRegression\n",
    "from sklearn.ensemble import RandomForestClassifier \n",
    "\n",
    "\n",
    "## Jared prefers LR over NB because NB has been used for very specific things. \n",
    "#For general classification, LR works better. \n",
    "# \"No Free Lunch Theorem\" states that there is not model that's the best model for everything\n",
    "## not every sklearn model is able to take sparse matrices in \n",
    "\n",
    "\n",
    "from sklearn.model_selection import train_test_split\n",
    "## library for model selection to get train vs test set\n",
    "## it wants my x matrix and y vector \n",
    "\n",
    "## will return 4 arrays: labels for training set and the test set. 75% training, 25% test.\n",
    "#(x's are terms, y's are labels)\n",
    "\n",
    "Xtrain, Xtest, Ytrain, Ytest = train_test_split(doc_term, tweets_df[\"Label\"]) \n",
    "## on all of the data"
   ]
  },
  {
   "cell_type": "code",
   "execution_count": 154,
   "metadata": {},
   "outputs": [
    {
     "data": {
      "text/plain": [
       "3817"
      ]
     },
     "execution_count": 154,
     "metadata": {},
     "output_type": "execute_result"
    }
   ],
   "source": [
    "len(doc_term)"
   ]
  },
  {
   "cell_type": "code",
   "execution_count": null,
   "metadata": {
    "collapsed": true
   },
   "outputs": [],
   "source": [
    "nb = MultinomialNB()\n",
    "lr = LogisticRegression()\n",
    "rf = RandomForestClassifier()  \n",
    "\n",
    "## RF is an ensemble of dumb classifiers, \n",
    "#makes a bunch of decision trees that are trained on some random columns.\n",
    "# grab random columns, make a decision tree, and keep repeating. then do a decision tree with them in the end. "
   ]
  },
  {
   "cell_type": "code",
   "execution_count": 152,
   "metadata": {
    "scrolled": false
   },
   "outputs": [
    {
     "name": "stdout",
     "output_type": "stream",
     "text": [
      "Fitting 5 folds for each of 4 candidates, totalling 20 fits\n",
      "[CV] C=1, penalty=l1 .................................................\n",
      "[CV] .................................. C=1, penalty=l1, total=   4.9s\n",
      "[CV] C=1, penalty=l1 .................................................\n"
     ]
    },
    {
     "name": "stderr",
     "output_type": "stream",
     "text": [
      "[Parallel(n_jobs=1)]: Done   1 out of   1 | elapsed:    6.8s remaining:    0.0s\n"
     ]
    },
    {
     "name": "stdout",
     "output_type": "stream",
     "text": [
      "[CV] .................................. C=1, penalty=l1, total=   4.3s\n",
      "[CV] C=1, penalty=l1 .................................................\n",
      "[CV] .................................. C=1, penalty=l1, total=   4.1s\n",
      "[CV] C=1, penalty=l1 .................................................\n",
      "[CV] .................................. C=1, penalty=l1, total=   4.2s\n",
      "[CV] C=1, penalty=l1 .................................................\n",
      "[CV] .................................. C=1, penalty=l1, total=   4.1s\n",
      "[CV] C=1, penalty=l2 .................................................\n",
      "[CV] .................................. C=1, penalty=l2, total=   3.9s\n",
      "[CV] C=1, penalty=l2 .................................................\n",
      "[CV] .................................. C=1, penalty=l2, total=   3.8s\n",
      "[CV] C=1, penalty=l2 .................................................\n",
      "[CV] .................................. C=1, penalty=l2, total=   3.8s\n",
      "[CV] C=1, penalty=l2 .................................................\n",
      "[CV] .................................. C=1, penalty=l2, total=   3.8s\n",
      "[CV] C=1, penalty=l2 .................................................\n",
      "[CV] .................................. C=1, penalty=l2, total=   3.9s\n",
      "[CV] C=10, penalty=l1 ................................................\n",
      "[CV] ................................. C=10, penalty=l1, total=   4.1s\n",
      "[CV] C=10, penalty=l1 ................................................\n",
      "[CV] ................................. C=10, penalty=l1, total=   4.1s\n",
      "[CV] C=10, penalty=l1 ................................................\n",
      "[CV] ................................. C=10, penalty=l1, total=   3.9s\n",
      "[CV] C=10, penalty=l1 ................................................\n",
      "[CV] ................................. C=10, penalty=l1, total=   4.1s\n",
      "[CV] C=10, penalty=l1 ................................................\n",
      "[CV] ................................. C=10, penalty=l1, total=   4.2s\n",
      "[CV] C=10, penalty=l2 ................................................\n",
      "[CV] ................................. C=10, penalty=l2, total=   4.0s\n",
      "[CV] C=10, penalty=l2 ................................................\n",
      "[CV] ................................. C=10, penalty=l2, total=   4.0s\n",
      "[CV] C=10, penalty=l2 ................................................\n",
      "[CV] ................................. C=10, penalty=l2, total=   4.0s\n",
      "[CV] C=10, penalty=l2 ................................................\n",
      "[CV] ................................. C=10, penalty=l2, total=   3.8s\n",
      "[CV] C=10, penalty=l2 ................................................\n",
      "[CV] ................................. C=10, penalty=l2, total=   3.9s\n"
     ]
    },
    {
     "name": "stderr",
     "output_type": "stream",
     "text": [
      "[Parallel(n_jobs=1)]: Done  20 out of  20 | elapsed:  2.0min finished\n"
     ]
    },
    {
     "data": {
      "text/plain": [
       "GridSearchCV(cv=5, error_score='raise',\n",
       "       estimator=LogisticRegression(C=1.0, class_weight=None, dual=False, fit_intercept=True,\n",
       "          intercept_scaling=1, max_iter=100, multi_class='ovr', n_jobs=1,\n",
       "          penalty='l2', random_state=None, solver='liblinear', tol=0.0001,\n",
       "          verbose=0, warm_start=False),\n",
       "       fit_params=None, iid=True, n_jobs=1,\n",
       "       param_grid={'penalty': ('l1', 'l2'), 'C': [1, 10]},\n",
       "       pre_dispatch='2*n_jobs', refit=True, return_train_score=True,\n",
       "       scoring=None, verbose=2)"
      ]
     },
     "execution_count": 152,
     "metadata": {},
     "output_type": "execute_result"
    }
   ],
   "source": [
    "# lr = LogisticRegression(penalty='l1') --> didn't help\n",
    "# lr = LogisticRegression(C=.05) -> not as bad as l1 on its own)\n",
    "# lr = LogisticRegression(penalty=\"l1\", C=.05) --> the worst ever\n",
    "\n",
    "#should continue to read about cross-validation \n",
    "# (re: splitting stratetgies, what's the best way to split your data. \n",
    "#you have a bunch of true and false labeled data, \n",
    "#is it important you maintain the same level of true/false in each split?)\n",
    "#jared likes shuffle_split\n",
    "\n",
    "##regularization (penalization) sets up a wall to avoid overfitting. \n",
    "# it's still possible to overfit, with strong evidence\n",
    "\n",
    "from sklearn.model_selection import GridSearchCV\n",
    "\n",
    "parameters = {'penalty':('l1', 'l2'), 'C':[1, 10]}\n",
    "clf = GridSearchCV(lr, parameters, cv=5, verbose=2)\n",
    "clf.fit(doc_term, tweets_df[\"Label\"])"
   ]
  },
  {
   "cell_type": "code",
   "execution_count": 153,
   "metadata": {
    "collapsed": true
   },
   "outputs": [
    {
     "data": {
      "text/html": [
       "<div>\n",
       "<style>\n",
       "    .dataframe thead tr:only-child th {\n",
       "        text-align: right;\n",
       "    }\n",
       "\n",
       "    .dataframe thead th {\n",
       "        text-align: left;\n",
       "    }\n",
       "\n",
       "    .dataframe tbody tr th {\n",
       "        vertical-align: top;\n",
       "    }\n",
       "</style>\n",
       "<table border=\"1\" class=\"dataframe\">\n",
       "  <thead>\n",
       "    <tr style=\"text-align: right;\">\n",
       "      <th></th>\n",
       "      <th>mean_fit_time</th>\n",
       "      <th>mean_score_time</th>\n",
       "      <th>mean_test_score</th>\n",
       "      <th>mean_train_score</th>\n",
       "      <th>param_C</th>\n",
       "      <th>param_penalty</th>\n",
       "      <th>params</th>\n",
       "      <th>rank_test_score</th>\n",
       "      <th>split0_test_score</th>\n",
       "      <th>split0_train_score</th>\n",
       "      <th>...</th>\n",
       "      <th>split2_test_score</th>\n",
       "      <th>split2_train_score</th>\n",
       "      <th>split3_test_score</th>\n",
       "      <th>split3_train_score</th>\n",
       "      <th>split4_test_score</th>\n",
       "      <th>split4_train_score</th>\n",
       "      <th>std_fit_time</th>\n",
       "      <th>std_score_time</th>\n",
       "      <th>std_test_score</th>\n",
       "      <th>std_train_score</th>\n",
       "    </tr>\n",
       "  </thead>\n",
       "  <tbody>\n",
       "    <tr>\n",
       "      <th>0</th>\n",
       "      <td>3.886750</td>\n",
       "      <td>0.427994</td>\n",
       "      <td>0.627980</td>\n",
       "      <td>0.852568</td>\n",
       "      <td>1</td>\n",
       "      <td>l1</td>\n",
       "      <td>{'C': 1, 'penalty': 'l1'}</td>\n",
       "      <td>3</td>\n",
       "      <td>0.662745</td>\n",
       "      <td>0.854849</td>\n",
       "      <td>...</td>\n",
       "      <td>0.606815</td>\n",
       "      <td>0.853307</td>\n",
       "      <td>0.647444</td>\n",
       "      <td>0.853962</td>\n",
       "      <td>0.597641</td>\n",
       "      <td>0.852980</td>\n",
       "      <td>0.293852</td>\n",
       "      <td>0.011685</td>\n",
       "      <td>0.024353</td>\n",
       "      <td>0.002497</td>\n",
       "    </tr>\n",
       "    <tr>\n",
       "      <th>1</th>\n",
       "      <td>3.436145</td>\n",
       "      <td>0.395159</td>\n",
       "      <td>0.642389</td>\n",
       "      <td>0.999542</td>\n",
       "      <td>1</td>\n",
       "      <td>l2</td>\n",
       "      <td>{'C': 1, 'penalty': 'l2'}</td>\n",
       "      <td>1</td>\n",
       "      <td>0.669281</td>\n",
       "      <td>0.999672</td>\n",
       "      <td>...</td>\n",
       "      <td>0.626474</td>\n",
       "      <td>1.000000</td>\n",
       "      <td>0.672346</td>\n",
       "      <td>0.999018</td>\n",
       "      <td>0.605505</td>\n",
       "      <td>0.999673</td>\n",
       "      <td>0.024790</td>\n",
       "      <td>0.010144</td>\n",
       "      <td>0.025501</td>\n",
       "      <td>0.000334</td>\n",
       "    </tr>\n",
       "    <tr>\n",
       "      <th>2</th>\n",
       "      <td>3.657279</td>\n",
       "      <td>0.421912</td>\n",
       "      <td>0.619073</td>\n",
       "      <td>0.999803</td>\n",
       "      <td>10</td>\n",
       "      <td>l1</td>\n",
       "      <td>{'C': 10, 'penalty': 'l1'}</td>\n",
       "      <td>4</td>\n",
       "      <td>0.622222</td>\n",
       "      <td>0.999672</td>\n",
       "      <td>...</td>\n",
       "      <td>0.604194</td>\n",
       "      <td>1.000000</td>\n",
       "      <td>0.643512</td>\n",
       "      <td>1.000000</td>\n",
       "      <td>0.605505</td>\n",
       "      <td>0.999345</td>\n",
       "      <td>0.106263</td>\n",
       "      <td>0.011712</td>\n",
       "      <td>0.014233</td>\n",
       "      <td>0.000262</td>\n",
       "    </tr>\n",
       "    <tr>\n",
       "      <th>3</th>\n",
       "      <td>3.556490</td>\n",
       "      <td>0.405126</td>\n",
       "      <td>0.633482</td>\n",
       "      <td>1.000000</td>\n",
       "      <td>10</td>\n",
       "      <td>l2</td>\n",
       "      <td>{'C': 10, 'penalty': 'l2'}</td>\n",
       "      <td>2</td>\n",
       "      <td>0.661438</td>\n",
       "      <td>1.000000</td>\n",
       "      <td>...</td>\n",
       "      <td>0.618611</td>\n",
       "      <td>1.000000</td>\n",
       "      <td>0.661861</td>\n",
       "      <td>1.000000</td>\n",
       "      <td>0.604194</td>\n",
       "      <td>1.000000</td>\n",
       "      <td>0.080161</td>\n",
       "      <td>0.015357</td>\n",
       "      <td>0.023734</td>\n",
       "      <td>0.000000</td>\n",
       "    </tr>\n",
       "  </tbody>\n",
       "</table>\n",
       "<p>4 rows × 22 columns</p>\n",
       "</div>"
      ],
      "text/plain": [
       "   mean_fit_time  mean_score_time  mean_test_score  mean_train_score param_C  \\\n",
       "0       3.886750         0.427994         0.627980          0.852568       1   \n",
       "1       3.436145         0.395159         0.642389          0.999542       1   \n",
       "2       3.657279         0.421912         0.619073          0.999803      10   \n",
       "3       3.556490         0.405126         0.633482          1.000000      10   \n",
       "\n",
       "  param_penalty                      params  rank_test_score  \\\n",
       "0            l1   {'C': 1, 'penalty': 'l1'}                3   \n",
       "1            l2   {'C': 1, 'penalty': 'l2'}                1   \n",
       "2            l1  {'C': 10, 'penalty': 'l1'}                4   \n",
       "3            l2  {'C': 10, 'penalty': 'l2'}                2   \n",
       "\n",
       "   split0_test_score  split0_train_score       ...         split2_test_score  \\\n",
       "0           0.662745            0.854849       ...                  0.606815   \n",
       "1           0.669281            0.999672       ...                  0.626474   \n",
       "2           0.622222            0.999672       ...                  0.604194   \n",
       "3           0.661438            1.000000       ...                  0.618611   \n",
       "\n",
       "   split2_train_score  split3_test_score  split3_train_score  \\\n",
       "0            0.853307           0.647444            0.853962   \n",
       "1            1.000000           0.672346            0.999018   \n",
       "2            1.000000           0.643512            1.000000   \n",
       "3            1.000000           0.661861            1.000000   \n",
       "\n",
       "   split4_test_score  split4_train_score  std_fit_time  std_score_time  \\\n",
       "0           0.597641            0.852980      0.293852        0.011685   \n",
       "1           0.605505            0.999673      0.024790        0.010144   \n",
       "2           0.605505            0.999345      0.106263        0.011712   \n",
       "3           0.604194            1.000000      0.080161        0.015357   \n",
       "\n",
       "   std_test_score  std_train_score  \n",
       "0        0.024353         0.002497  \n",
       "1        0.025501         0.000334  \n",
       "2        0.014233         0.000262  \n",
       "3        0.023734         0.000000  \n",
       "\n",
       "[4 rows x 22 columns]"
      ]
     },
     "execution_count": 153,
     "metadata": {},
     "output_type": "execute_result"
    }
   ],
   "source": [
    "clf.best_params_\n",
    "pd.DataFrame(clf.cv_results_)\n",
    "\n",
    "# training score is the results of putting training data into fitted model and seeing what prediction is\n",
    "# tells you how well you predict data you've already seen \n",
    "# test score / training score discrepancy means overfitted! \n",
    "# an overfitted model could be the best model, but still have to mention it's overfitting\n",
    "## want the test and training numbers to be closer to gether. restricting depth is one method of doing so with RF"
   ]
  },
  {
   "cell_type": "code",
   "execution_count": null,
   "metadata": {
    "collapsed": true
   },
   "outputs": [],
   "source": [
    "### best_params were: C= 1 and Penalty = l2\n",
    "# the default cv was 3, we increased it to 5. \n",
    "#LR is a simple model, RF has more params to change grid search on"
   ]
  },
  {
   "cell_type": "code",
   "execution_count": 148,
   "metadata": {
    "collapsed": true
   },
   "outputs": [
    {
     "name": "stdout",
     "output_type": "stream",
     "text": [
      "Fitting 2 folds for each of 9 candidates, totalling 18 fits\n",
      "[CV] max_depth=6, n_estimators=32 ....................................\n",
      "[CV] ..................... max_depth=6, n_estimators=32, total=   6.1s\n",
      "[CV] max_depth=6, n_estimators=32 ....................................\n"
     ]
    },
    {
     "name": "stderr",
     "output_type": "stream",
     "text": [
      "[Parallel(n_jobs=1)]: Done   1 out of   1 | elapsed:    6.9s remaining:    0.0s\n"
     ]
    },
    {
     "name": "stdout",
     "output_type": "stream",
     "text": [
      "[CV] ..................... max_depth=6, n_estimators=32, total=   4.6s\n",
      "[CV] max_depth=6, n_estimators=64 ....................................\n",
      "[CV] ..................... max_depth=6, n_estimators=64, total=   6.1s\n",
      "[CV] max_depth=6, n_estimators=64 ....................................\n",
      "[CV] ..................... max_depth=6, n_estimators=64, total=   5.9s\n",
      "[CV] max_depth=6, n_estimators=128 ...................................\n",
      "[CV] .................... max_depth=6, n_estimators=128, total=   8.9s\n",
      "[CV] max_depth=6, n_estimators=128 ...................................\n",
      "[CV] .................... max_depth=6, n_estimators=128, total=   8.8s\n",
      "[CV] max_depth=8, n_estimators=32 ....................................\n",
      "[CV] ..................... max_depth=8, n_estimators=32, total=   5.0s\n",
      "[CV] max_depth=8, n_estimators=32 ....................................\n",
      "[CV] ..................... max_depth=8, n_estimators=32, total=   4.9s\n",
      "[CV] max_depth=8, n_estimators=64 ....................................\n",
      "[CV] ..................... max_depth=8, n_estimators=64, total=   6.8s\n",
      "[CV] max_depth=8, n_estimators=64 ....................................\n",
      "[CV] ..................... max_depth=8, n_estimators=64, total=   7.2s\n",
      "[CV] max_depth=8, n_estimators=128 ...................................\n",
      "[CV] .................... max_depth=8, n_estimators=128, total=  11.1s\n",
      "[CV] max_depth=8, n_estimators=128 ...................................\n",
      "[CV] .................... max_depth=8, n_estimators=128, total=  11.3s\n",
      "[CV] max_depth=10, n_estimators=32 ...................................\n",
      "[CV] .................... max_depth=10, n_estimators=32, total=   5.4s\n",
      "[CV] max_depth=10, n_estimators=32 ...................................\n",
      "[CV] .................... max_depth=10, n_estimators=32, total=   5.3s\n",
      "[CV] max_depth=10, n_estimators=64 ...................................\n",
      "[CV] .................... max_depth=10, n_estimators=64, total=   7.6s\n",
      "[CV] max_depth=10, n_estimators=64 ...................................\n",
      "[CV] .................... max_depth=10, n_estimators=64, total=   7.6s\n",
      "[CV] max_depth=10, n_estimators=128 ..................................\n",
      "[CV] ................... max_depth=10, n_estimators=128, total=  12.3s\n",
      "[CV] max_depth=10, n_estimators=128 ..................................\n",
      "[CV] ................... max_depth=10, n_estimators=128, total=  12.7s\n"
     ]
    },
    {
     "name": "stderr",
     "output_type": "stream",
     "text": [
      "[Parallel(n_jobs=1)]: Done  18 out of  18 | elapsed:  2.5min finished\n"
     ]
    },
    {
     "data": {
      "text/plain": [
       "GridSearchCV(cv=2, error_score='raise',\n",
       "       estimator=RandomForestClassifier(bootstrap=True, class_weight=None, criterion='gini',\n",
       "            max_depth=None, max_features='auto', max_leaf_nodes=None,\n",
       "            min_impurity_decrease=0.0, min_impurity_split=None,\n",
       "            min_samples_leaf=1, min_samples_split=2,\n",
       "            min_weight_fraction_leaf=0.0, n_estimators=10, n_jobs=1,\n",
       "            oob_score=False, random_state=None, verbose=0,\n",
       "            warm_start=False),\n",
       "       fit_params=None, iid=True, n_jobs=1,\n",
       "       param_grid={'n_estimators': [32, 64, 128], 'max_depth': [6, 8, 10]},\n",
       "       pre_dispatch='2*n_jobs', refit=True, return_train_score=True,\n",
       "       scoring=None, verbose=2)"
      ]
     },
     "execution_count": 148,
     "metadata": {},
     "output_type": "execute_result"
    }
   ],
   "source": [
    "\n",
    "## running grid search on RF\n",
    "parameters = {'n_estimators':[32, 64, 128], 'max_depth':[6, 8, 10]} \n",
    "#increasing estimators increases training time, depth doesn't\n",
    "clf = GridSearchCV(rf, parameters, cv=2, verbose=2) ##made cv =2 to for time\n",
    "clf.fit(doc_term, tweets_df[\"Label\"])"
   ]
  },
  {
   "cell_type": "code",
   "execution_count": 149,
   "metadata": {},
   "outputs": [
    {
     "data": {
      "text/plain": [
       "{'max_depth': 10, 'n_estimators': 128}"
      ]
     },
     "execution_count": 149,
     "metadata": {},
     "output_type": "execute_result"
    }
   ],
   "source": [
    "clf.best_params_"
   ]
  },
  {
   "cell_type": "code",
   "execution_count": 150,
   "metadata": {
    "collapsed": true
   },
   "outputs": [
    {
     "data": {
      "text/html": [
       "<div>\n",
       "<style>\n",
       "    .dataframe thead tr:only-child th {\n",
       "        text-align: right;\n",
       "    }\n",
       "\n",
       "    .dataframe thead th {\n",
       "        text-align: left;\n",
       "    }\n",
       "\n",
       "    .dataframe tbody tr th {\n",
       "        vertical-align: top;\n",
       "    }\n",
       "</style>\n",
       "<table border=\"1\" class=\"dataframe\">\n",
       "  <thead>\n",
       "    <tr style=\"text-align: right;\">\n",
       "      <th></th>\n",
       "      <th>mean_fit_time</th>\n",
       "      <th>mean_score_time</th>\n",
       "      <th>mean_test_score</th>\n",
       "      <th>mean_train_score</th>\n",
       "      <th>param_max_depth</th>\n",
       "      <th>param_n_estimators</th>\n",
       "      <th>params</th>\n",
       "      <th>rank_test_score</th>\n",
       "      <th>split0_test_score</th>\n",
       "      <th>split0_train_score</th>\n",
       "      <th>split1_test_score</th>\n",
       "      <th>split1_train_score</th>\n",
       "      <th>std_fit_time</th>\n",
       "      <th>std_score_time</th>\n",
       "      <th>std_test_score</th>\n",
       "      <th>std_train_score</th>\n",
       "    </tr>\n",
       "  </thead>\n",
       "  <tbody>\n",
       "    <tr>\n",
       "      <th>0</th>\n",
       "      <td>4.631787</td>\n",
       "      <td>0.718489</td>\n",
       "      <td>0.582133</td>\n",
       "      <td>0.668063</td>\n",
       "      <td>6</td>\n",
       "      <td>32</td>\n",
       "      <td>{'max_depth': 6, 'n_estimators': 32}</td>\n",
       "      <td>9</td>\n",
       "      <td>0.567313</td>\n",
       "      <td>0.663522</td>\n",
       "      <td>0.596960</td>\n",
       "      <td>0.672603</td>\n",
       "      <td>0.717006</td>\n",
       "      <td>0.020472</td>\n",
       "      <td>0.014824</td>\n",
       "      <td>0.004541</td>\n",
       "    </tr>\n",
       "    <tr>\n",
       "      <th>1</th>\n",
       "      <td>5.343557</td>\n",
       "      <td>0.653107</td>\n",
       "      <td>0.586848</td>\n",
       "      <td>0.714432</td>\n",
       "      <td>6</td>\n",
       "      <td>64</td>\n",
       "      <td>{'max_depth': 6, 'n_estimators': 64}</td>\n",
       "      <td>7</td>\n",
       "      <td>0.597695</td>\n",
       "      <td>0.700734</td>\n",
       "      <td>0.575996</td>\n",
       "      <td>0.728130</td>\n",
       "      <td>0.026863</td>\n",
       "      <td>0.028293</td>\n",
       "      <td>0.010850</td>\n",
       "      <td>0.013698</td>\n",
       "    </tr>\n",
       "    <tr>\n",
       "      <th>2</th>\n",
       "      <td>8.213514</td>\n",
       "      <td>0.631247</td>\n",
       "      <td>0.600734</td>\n",
       "      <td>0.770760</td>\n",
       "      <td>6</td>\n",
       "      <td>128</td>\n",
       "      <td>{'max_depth': 6, 'n_estimators': 128}</td>\n",
       "      <td>5</td>\n",
       "      <td>0.607124</td>\n",
       "      <td>0.763103</td>\n",
       "      <td>0.594340</td>\n",
       "      <td>0.778418</td>\n",
       "      <td>0.047577</td>\n",
       "      <td>0.021370</td>\n",
       "      <td>0.006392</td>\n",
       "      <td>0.007658</td>\n",
       "    </tr>\n",
       "    <tr>\n",
       "      <th>3</th>\n",
       "      <td>4.265015</td>\n",
       "      <td>0.665504</td>\n",
       "      <td>0.591302</td>\n",
       "      <td>0.690596</td>\n",
       "      <td>8</td>\n",
       "      <td>32</td>\n",
       "      <td>{'max_depth': 8, 'n_estimators': 32}</td>\n",
       "      <td>6</td>\n",
       "      <td>0.586171</td>\n",
       "      <td>0.694444</td>\n",
       "      <td>0.596436</td>\n",
       "      <td>0.686747</td>\n",
       "      <td>0.024258</td>\n",
       "      <td>0.051562</td>\n",
       "      <td>0.005133</td>\n",
       "      <td>0.003849</td>\n",
       "    </tr>\n",
       "    <tr>\n",
       "      <th>4</th>\n",
       "      <td>6.325753</td>\n",
       "      <td>0.686074</td>\n",
       "      <td>0.601258</td>\n",
       "      <td>0.731990</td>\n",
       "      <td>8</td>\n",
       "      <td>64</td>\n",
       "      <td>{'max_depth': 8, 'n_estimators': 64}</td>\n",
       "      <td>4</td>\n",
       "      <td>0.599267</td>\n",
       "      <td>0.738470</td>\n",
       "      <td>0.603249</td>\n",
       "      <td>0.725511</td>\n",
       "      <td>0.164725</td>\n",
       "      <td>0.054358</td>\n",
       "      <td>0.001991</td>\n",
       "      <td>0.006479</td>\n",
       "    </tr>\n",
       "    <tr>\n",
       "      <th>5</th>\n",
       "      <td>10.542145</td>\n",
       "      <td>0.664952</td>\n",
       "      <td>0.614095</td>\n",
       "      <td>0.788840</td>\n",
       "      <td>8</td>\n",
       "      <td>128</td>\n",
       "      <td>{'max_depth': 8, 'n_estimators': 128}</td>\n",
       "      <td>2</td>\n",
       "      <td>0.618649</td>\n",
       "      <td>0.790356</td>\n",
       "      <td>0.609539</td>\n",
       "      <td>0.787323</td>\n",
       "      <td>0.012099</td>\n",
       "      <td>0.057341</td>\n",
       "      <td>0.004555</td>\n",
       "      <td>0.001517</td>\n",
       "    </tr>\n",
       "    <tr>\n",
       "      <th>6</th>\n",
       "      <td>4.734359</td>\n",
       "      <td>0.657954</td>\n",
       "      <td>0.582657</td>\n",
       "      <td>0.717842</td>\n",
       "      <td>10</td>\n",
       "      <td>32</td>\n",
       "      <td>{'max_depth': 10, 'n_estimators': 32}</td>\n",
       "      <td>8</td>\n",
       "      <td>0.588790</td>\n",
       "      <td>0.720126</td>\n",
       "      <td>0.576520</td>\n",
       "      <td>0.715558</td>\n",
       "      <td>0.040217</td>\n",
       "      <td>0.004905</td>\n",
       "      <td>0.006135</td>\n",
       "      <td>0.002284</td>\n",
       "    </tr>\n",
       "    <tr>\n",
       "      <th>7</th>\n",
       "      <td>6.961533</td>\n",
       "      <td>0.631927</td>\n",
       "      <td>0.605711</td>\n",
       "      <td>0.746393</td>\n",
       "      <td>10</td>\n",
       "      <td>64</td>\n",
       "      <td>{'max_depth': 10, 'n_estimators': 64}</td>\n",
       "      <td>3</td>\n",
       "      <td>0.598219</td>\n",
       "      <td>0.729560</td>\n",
       "      <td>0.613208</td>\n",
       "      <td>0.763227</td>\n",
       "      <td>0.046703</td>\n",
       "      <td>0.027167</td>\n",
       "      <td>0.007494</td>\n",
       "      <td>0.016834</td>\n",
       "    </tr>\n",
       "    <tr>\n",
       "      <th>8</th>\n",
       "      <td>11.830532</td>\n",
       "      <td>0.670731</td>\n",
       "      <td>0.614619</td>\n",
       "      <td>0.800630</td>\n",
       "      <td>10</td>\n",
       "      <td>128</td>\n",
       "      <td>{'max_depth': 10, 'n_estimators': 128}</td>\n",
       "      <td>1</td>\n",
       "      <td>0.612886</td>\n",
       "      <td>0.805556</td>\n",
       "      <td>0.616352</td>\n",
       "      <td>0.795705</td>\n",
       "      <td>0.098778</td>\n",
       "      <td>0.056866</td>\n",
       "      <td>0.001733</td>\n",
       "      <td>0.004925</td>\n",
       "    </tr>\n",
       "  </tbody>\n",
       "</table>\n",
       "</div>"
      ],
      "text/plain": [
       "   mean_fit_time  mean_score_time  mean_test_score  mean_train_score  \\\n",
       "0       4.631787         0.718489         0.582133          0.668063   \n",
       "1       5.343557         0.653107         0.586848          0.714432   \n",
       "2       8.213514         0.631247         0.600734          0.770760   \n",
       "3       4.265015         0.665504         0.591302          0.690596   \n",
       "4       6.325753         0.686074         0.601258          0.731990   \n",
       "5      10.542145         0.664952         0.614095          0.788840   \n",
       "6       4.734359         0.657954         0.582657          0.717842   \n",
       "7       6.961533         0.631927         0.605711          0.746393   \n",
       "8      11.830532         0.670731         0.614619          0.800630   \n",
       "\n",
       "  param_max_depth param_n_estimators                                  params  \\\n",
       "0               6                 32    {'max_depth': 6, 'n_estimators': 32}   \n",
       "1               6                 64    {'max_depth': 6, 'n_estimators': 64}   \n",
       "2               6                128   {'max_depth': 6, 'n_estimators': 128}   \n",
       "3               8                 32    {'max_depth': 8, 'n_estimators': 32}   \n",
       "4               8                 64    {'max_depth': 8, 'n_estimators': 64}   \n",
       "5               8                128   {'max_depth': 8, 'n_estimators': 128}   \n",
       "6              10                 32   {'max_depth': 10, 'n_estimators': 32}   \n",
       "7              10                 64   {'max_depth': 10, 'n_estimators': 64}   \n",
       "8              10                128  {'max_depth': 10, 'n_estimators': 128}   \n",
       "\n",
       "   rank_test_score  split0_test_score  split0_train_score  split1_test_score  \\\n",
       "0                9           0.567313            0.663522           0.596960   \n",
       "1                7           0.597695            0.700734           0.575996   \n",
       "2                5           0.607124            0.763103           0.594340   \n",
       "3                6           0.586171            0.694444           0.596436   \n",
       "4                4           0.599267            0.738470           0.603249   \n",
       "5                2           0.618649            0.790356           0.609539   \n",
       "6                8           0.588790            0.720126           0.576520   \n",
       "7                3           0.598219            0.729560           0.613208   \n",
       "8                1           0.612886            0.805556           0.616352   \n",
       "\n",
       "   split1_train_score  std_fit_time  std_score_time  std_test_score  \\\n",
       "0            0.672603      0.717006        0.020472        0.014824   \n",
       "1            0.728130      0.026863        0.028293        0.010850   \n",
       "2            0.778418      0.047577        0.021370        0.006392   \n",
       "3            0.686747      0.024258        0.051562        0.005133   \n",
       "4            0.725511      0.164725        0.054358        0.001991   \n",
       "5            0.787323      0.012099        0.057341        0.004555   \n",
       "6            0.715558      0.040217        0.004905        0.006135   \n",
       "7            0.763227      0.046703        0.027167        0.007494   \n",
       "8            0.795705      0.098778        0.056866        0.001733   \n",
       "\n",
       "   std_train_score  \n",
       "0         0.004541  \n",
       "1         0.013698  \n",
       "2         0.007658  \n",
       "3         0.003849  \n",
       "4         0.006479  \n",
       "5         0.001517  \n",
       "6         0.002284  \n",
       "7         0.016834  \n",
       "8         0.004925  "
      ]
     },
     "execution_count": 150,
     "metadata": {},
     "output_type": "execute_result"
    }
   ],
   "source": [
    "pd.DataFrame(clf.cv_results_)\n",
    "\n",
    "## the best score we could get out the rf was .61."
   ]
  },
  {
   "cell_type": "code",
   "execution_count": 131,
   "metadata": {},
   "outputs": [
    {
     "data": {
      "text/plain": [
       "(0.6201221528366698, 0.02569524963547301)"
      ]
     },
     "execution_count": 131,
     "metadata": {},
     "output_type": "execute_result"
    }
   ],
   "source": [
    "## this is a process of model selection \n",
    "from sklearn.model_selection import cross_val_score\n",
    "scores = cross_val_score(nb, doc_term, tweets_df[\"Label\"], cv=5)\n",
    "np.mean(scores), np.std(scores) "
   ]
  },
  {
   "cell_type": "code",
   "execution_count": 139,
   "metadata": {},
   "outputs": [
    {
     "data": {
      "text/plain": [
       "(0.593391754255219, 0.020379661558376658)"
      ]
     },
     "execution_count": 139,
     "metadata": {},
     "output_type": "execute_result"
    }
   ],
   "source": [
    "from sklearn.model_selection import cross_val_score\n",
    "scores = cross_val_score(lr, doc_term, tweets_df[\"Label\"], cv=5)\n",
    "np.mean(scores), np.std(scores) ##LR is working the best with the data we currently have! \n",
    "\n",
    "#should continue to read about cross-validation \n",
    "# (re: splitting stratetgies, what's the best way to split your data. \n",
    "#you have a bunch of true and false labeled data, \n",
    "#is it important you maintain the same level of true/false in each split?)\n",
    "#jared likes shuffle_split\n",
    "\n",
    "\n",
    "##regularization (penalization) sets up a wall to avoid overfitting. \n",
    "# it's still possible to overfit, with strong evidence"
   ]
  },
  {
   "cell_type": "code",
   "execution_count": 130,
   "metadata": {},
   "outputs": [
    {
     "data": {
      "text/plain": [
       "(0.5973222316449516, 0.021815359336591584)"
      ]
     },
     "execution_count": 130,
     "metadata": {},
     "output_type": "execute_result"
    }
   ],
   "source": [
    "from sklearn.model_selection import cross_val_score\n",
    "scores = cross_val_score(rf, doc_term, tweets_df[\"Label\"], cv=5)\n",
    "np.mean(scores), np.std(scores) "
   ]
  },
  {
   "cell_type": "code",
   "execution_count": 119,
   "metadata": {
    "collapsed": true
   },
   "outputs": [
    {
     "data": {
      "text/plain": [
       "RandomForestClassifier(bootstrap=True, class_weight=None, criterion='gini',\n",
       "            max_depth=None, max_features='auto', max_leaf_nodes=None,\n",
       "            min_impurity_decrease=0.0, min_impurity_split=None,\n",
       "            min_samples_leaf=1, min_samples_split=2,\n",
       "            min_weight_fraction_leaf=0.0, n_estimators=10, n_jobs=1,\n",
       "            oob_score=False, random_state=None, verbose=0,\n",
       "            warm_start=False)"
      ]
     },
     "execution_count": 119,
     "metadata": {},
     "output_type": "execute_result"
    }
   ],
   "source": [
    "nb.fit(Xtrain, Ytrain)\n",
    "lr.fit(Xtrain, Ytrain)\n",
    "rf.fit(Xtrain, Ytrain)"
   ]
  },
  {
   "cell_type": "code",
   "execution_count": 120,
   "metadata": {},
   "outputs": [],
   "source": [
    "## each classification model has a predict prob. y_hat = predicted probabiliy\n",
    "# makes a prediction for every tweet not in the training set\n",
    "yhat_nb = nb.predict_proba(Xtest)\n",
    "yhat_lr = lr.predict_proba(Xtest)\n",
    "yhat_rf = rf.predict_proba(Xtest)"
   ]
  },
  {
   "cell_type": "code",
   "execution_count": 121,
   "metadata": {
    "collapsed": true
   },
   "outputs": [],
   "source": [
    "## two competing metrics\n",
    "# specificity (how good you are at false negatives) and sensitivity (how well can identify false positives)\n",
    "# ROC measures how well actually distinguishing between these two classes \n",
    "\n",
    "from sklearn.metrics import roc_auc_score as roc  \n",
    "## takes a list of p's and a list of labels and gives me a number out"
   ]
  },
  {
   "cell_type": "code",
   "execution_count": 122,
   "metadata": {},
   "outputs": [
    {
     "data": {
      "text/plain": [
       "array([[0.99038553, 0.00961447],\n",
       "       [0.01380784, 0.98619216],\n",
       "       [0.02391917, 0.97608083],\n",
       "       ...,\n",
       "       [0.04041444, 0.95958556],\n",
       "       [0.00204746, 0.99795254],\n",
       "       [0.50667901, 0.49332099]])"
      ]
     },
     "execution_count": 122,
     "metadata": {},
     "output_type": "execute_result"
    }
   ],
   "source": [
    "yhat_nb\n",
    "## p 0 (non-ironic) is the first column, 1 (ironic) is second column"
   ]
  },
  {
   "cell_type": "code",
   "execution_count": 123,
   "metadata": {},
   "outputs": [
    {
     "data": {
      "text/plain": [
       "0.6792236842105265"
      ]
     },
     "execution_count": 123,
     "metadata": {},
     "output_type": "execute_result"
    }
   ],
   "source": [
    "## roc wants the true labels, and then p that it's = to 1, by slicing second column to the array\n",
    "\n",
    "roc(Ytest, yhat_nb[:,1])   ## : means give me every single row. the 1 means \"i want the 1th column\"\n",
    "\n",
    "# worst ROC score = .5, best = 1.0\n",
    "# .5 is the worst because it's a 50/50 chance\n",
    "# ROC score is a probability. \n",
    "# means if you give me an ironic and a non-ironic tweet, 66% of the time i can distinguish them"
   ]
  },
  {
   "cell_type": "code",
   "execution_count": 124,
   "metadata": {},
   "outputs": [
    {
     "data": {
      "text/plain": [
       "0.6975043859649123"
      ]
     },
     "execution_count": 124,
     "metadata": {},
     "output_type": "execute_result"
    }
   ],
   "source": [
    "roc(Ytest, yhat_lr[:,1])   ###will always need to report the curve with it"
   ]
  },
  {
   "cell_type": "code",
   "execution_count": 125,
   "metadata": {
    "collapsed": true
   },
   "outputs": [],
   "source": [
    "## to increase the score, need better features, not better model "
   ]
  },
  {
   "cell_type": "code",
   "execution_count": 126,
   "metadata": {},
   "outputs": [
    {
     "data": {
      "text/plain": [
       "0.6465021929824561"
      ]
     },
     "execution_count": 126,
     "metadata": {},
     "output_type": "execute_result"
    }
   ],
   "source": [
    "roc(Ytest, yhat_rf[:,1])"
   ]
  },
  {
   "cell_type": "code",
   "execution_count": 155,
   "metadata": {},
   "outputs": [
    {
     "data": {
      "image/png": "[encoded data removed]",
      "text/plain": [
       "<matplotlib.figure.Figure at 0x1a442f76d8>"
      ]
     },
     "metadata": {},
     "output_type": "display_data"
    }
   ],
   "source": [
    "##fpr and tpr are like x and y values\n",
    "## this figure shows up in every machine learning classifier paper\n",
    "# this curve moves up if you identify true pos. (correctly), \n",
    "# moves to the right if you identify something wrong\n",
    "# worst score = .5 (baseline, 50/50), best score is 1\n",
    "\n",
    "##document-term matrix is not capturing all features of irony well\n",
    "\n",
    "from sklearn.metrics import roc_curve\n",
    "\n",
    "fpr_randomforest, tpr_randomforest, _ = roc_curve(Ytest, yhat_rf[:,1]) \n",
    "fpr_naivebayes, tpr_naivebayes, _ = roc_curve(Ytest, yhat_nb[:,1]) \n",
    "fpr_logisticregression, tpr_logisticregression, _ = roc_curve(Ytest, yhat_lr[:,1]) \n",
    "\n",
    "plt.figure()\n",
    "plt.plot(fpr_randomforest, tpr_randomforest, lw=2,\n",
    "         label='ROC curve (area = %0.2f)' % roc(Ytest, yhat_rf[:,1]))\n",
    "plt.plot(fpr_naivebayes, tpr_naivebayes, lw=2,\n",
    "         label='ROC curve (area = %0.2f)' % roc(Ytest, yhat_nb[:,1]))\n",
    "plt.plot(fpr_logisticregression, tpr_logisticregression, lw=2,\n",
    "         label='ROC curve (area = %0.2f)' % roc(Ytest, yhat_lr[:,1]))\n",
    "plt.plot([0, 1], [0, 1], color='navy', lw=2, linestyle='--')\n",
    "plt.xlim([0.0, 1.0])\n",
    "plt.ylim([0.0, 1.05])\n",
    "plt.xlabel('False Positive Rate')\n",
    "plt.ylabel('True Positive Rate')\n",
    "plt.title('Receiver operating characteristic example')\n",
    "plt.legend(loc=\"lower right\")\n",
    "plt.savefig(\"./roc_curve_baseline.png\")"
   ]
  },
  {
   "cell_type": "code",
   "execution_count": 111,
   "metadata": {
    "collapsed": true
   },
   "outputs": [],
   "source": [
    "## with n-grams will make a new column for every n-gram vs every word\n",
    "## get my baseline and then get them to work better. \n",
    "## then compare them to the state of the art lstm. "
   ]
  },
  {
   "cell_type": "code",
   "execution_count": 83,
   "metadata": {
    "collapsed": true
   },
   "outputs": [],
   "source": [
    "## now going to improve baselines with n-grams"
   ]
  },
  {
   "cell_type": "markdown",
   "metadata": {},
   "source": [
    "# Model Introspection/Interpretation"
   ]
  },
  {
   "cell_type": "code",
   "execution_count": null,
   "metadata": {
    "collapsed": true
   },
   "outputs": [],
   "source": [
    "## how to get feature importances out of these models?\n",
    "## which words are most important in determining if something is ironic or not?\n",
    "\n",
    "##train a new lr, get weights out, turn from weights to words that are most important"
   ]
  },
  {
   "cell_type": "code",
   "execution_count": 184,
   "metadata": {},
   "outputs": [
    {
     "name": "stderr",
     "output_type": "stream",
     "text": [
      "/Users/Jordan_Earnest/anaconda3/lib/python3.6/site-packages/sklearn/feature_extraction/text.py:1089: FutureWarning: Conversion of the second argument of issubdtype from `float` to `np.floating` is deprecated. In future, it will be treated as `np.float64 == np.dtype(float).type`.\n",
      "  if hasattr(X, 'dtype') and np.issubdtype(X.dtype, np.float):\n"
     ]
    }
   ],
   "source": [
    "## need to implement stopwords\n",
    "\n",
    "# cv = CountVectorizer(ngram_range=(1,3), stop_words=\"english\") \n",
    "# doc_term = cv.fit_transform(lst_of_strings)\n",
    "# doc_term = doc_term.todense() \n",
    "\n",
    "## do tf-idf vectorizer\n",
    "cv = TfidfVectorizer(ngram_range=(1,3), stop_words=\"english\") \n",
    "doc_term = cv.fit_transform(lst_of_strings)\n",
    "doc_term = doc_term.todense() "
   ]
  },
  {
   "cell_type": "code",
   "execution_count": 185,
   "metadata": {},
   "outputs": [
    {
     "data": {
      "text/plain": [
       "LogisticRegression(C=1.0, class_weight=None, dual=False, fit_intercept=True,\n",
       "          intercept_scaling=1, max_iter=100, multi_class='ovr', n_jobs=1,\n",
       "          penalty='l2', random_state=None, solver='liblinear', tol=0.0001,\n",
       "          verbose=0, warm_start=False)"
      ]
     },
     "execution_count": 185,
     "metadata": {},
     "output_type": "execute_result"
    }
   ],
   "source": [
    "lr = LogisticRegression()\n",
    "lr.fit(doc_term, tweets_df[\"Label\"])"
   ]
  },
  {
   "cell_type": "code",
   "execution_count": 186,
   "metadata": {},
   "outputs": [
    {
     "data": {
      "text/plain": [
       "array([[-0.00340052, -0.09638679, -0.09638679, ..., -0.07686238,\n",
       "        -0.07686238, -0.07686238]])"
      ]
     },
     "execution_count": 186,
     "metadata": {},
     "output_type": "execute_result"
    }
   ],
   "source": [
    "lr.coef_\n",
    "## getting the coefficients of the features\n",
    "## if a coef is large in magnitude, it's important! \n",
    "## that feature has a lot of weight in determinign irony!\n",
    "\n",
    "## each number in the array corresponds to importance of a single word \n",
    "## (or n-gram, depending. in this case ngram = 1,3)"
   ]
  },
  {
   "cell_type": "code",
   "execution_count": 187,
   "metadata": {},
   "outputs": [],
   "source": [
    "## get the index of highest weights \n",
    "# np.argsort(lr.coef_)\n",
    "#this would give us the indices from  smallest to largest \n",
    "\n",
    "#however, we want the magnitude (a large negative coef is also import)\n",
    "\n",
    "least_ironic_lst = np.argsort(lr.coef_)[0][:20] \n",
    "most_ironic_lst = np.argsort(lr.coef_)[0][-20:] "
   ]
  },
  {
   "cell_type": "code",
   "execution_count": 188,
   "metadata": {},
   "outputs": [
    {
     "name": "stdout",
     "output_type": "stream",
     "text": [
      "glad\n",
      "hours\n",
      "funny\n",
      "really\n",
      "waking\n",
      "working\n",
      "monday\n",
      "just love\n",
      "day\n",
      "wait\n",
      "work\n",
      "wow\n",
      "unamused_face\n",
      "nice\n",
      "oh\n",
      "yay\n",
      "thanks\n",
      "fun\n",
      "great\n",
      "love\n"
     ]
    }
   ],
   "source": [
    "for i in most_ironic_lst:\n",
    "    print(cv.get_feature_names()[i])"
   ]
  },
  {
   "cell_type": "code",
   "execution_count": 189,
   "metadata": {},
   "outputs": [
    {
     "name": "stdout",
     "output_type": "stream",
     "text": [
      "http\n",
      "follow\n",
      "tonight\n",
      "check\n",
      "https\n",
      "think\n",
      "2015\n",
      "understand\n",
      "seen\n",
      "dont\n",
      "literally\n",
      "long\n",
      "need\n",
      "face_throwing_a_kiss\n",
      "rt\n",
      "change\n",
      "idea\n",
      "did\n",
      "girl\n",
      "playing\n"
     ]
    }
   ],
   "source": [
    "for i in least_ironic_lst:\n",
    "    print(cv.get_feature_names()[i])"
   ]
  },
  {
   "cell_type": "code",
   "execution_count": 191,
   "metadata": {
    "collapsed": true
   },
   "outputs": [],
   "source": [
    "## could sacrifice a lower roc store for a different ngram\n",
    "## do tf-idf vectorizer\n",
    "\n",
    "## in presentation add tweets with most ironic words in them! (just love)"
   ]
  },
  {
   "cell_type": "code",
   "execution_count": null,
   "metadata": {
    "collapsed": true
   },
   "outputs": [],
   "source": [
    "## next implement LSTM sentiment analysis"
   ]
  }
 ],
 "metadata": {
  "kernelspec": {
   "display_name": "Python 3",
   "language": "python",
   "name": "python3"
  },
  "language_info": {
   "codemirror_mode": {
    "name": "ipython",
    "version": 3
   },
   "file_extension": ".py",
   "mimetype": "text/x-python",
   "name": "python",
   "nbconvert_exporter": "python",
   "pygments_lexer": "ipython3",
   "version": "3.6.2"
  }
 },
 "nbformat": 4,
 "nbformat_minor": 2
}
